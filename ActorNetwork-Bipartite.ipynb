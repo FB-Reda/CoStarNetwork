{
 "cells": [
  {
   "cell_type": "code",
   "execution_count": 1,
   "metadata": {
    "collapsed": false,
    "scrolled": true
   },
   "outputs": [
    {
     "name": "stdout",
     "output_type": "stream",
     "text": [
      "2.0\n"
     ]
    }
   ],
   "source": [
    "import os\n",
    "import omdb\n",
    "import csv\n",
    "import pickle\n",
    "import collections\n",
    "import pandas as pd\n",
    "import numpy as np\n",
    "import networkx as nx\n",
    "import matplotlib.pyplot as plt\n",
    "from networkx.algorithms import bipartite\n",
    "from networkx.algorithms import clique\n",
    "from networkx.algorithms import cluster\n",
    "from networkx.algorithms import link_prediction\n",
    "from scipy.optimize import curve_fit\n",
    "print(nx.__version__)"
   ]
  },
  {
   "cell_type": "code",
   "execution_count": 2,
   "metadata": {
    "collapsed": false
   },
   "outputs": [],
   "source": [
    "df = pickle.load(open(\"databasedump.pickle\", 'rb'))"
   ]
  },
  {
   "cell_type": "code",
   "execution_count": 3,
   "metadata": {
    "collapsed": false
   },
   "outputs": [
    {
     "data": {
      "text/html": [
       "<div>\n",
       "<table border=\"1\" class=\"dataframe\">\n",
       "  <thead>\n",
       "    <tr style=\"text-align: right;\">\n",
       "      <th></th>\n",
       "      <th>actors</th>\n",
       "      <th>awards</th>\n",
       "      <th>box_office</th>\n",
       "      <th>country</th>\n",
       "      <th>director</th>\n",
       "      <th>genre</th>\n",
       "      <th>imdb_rating</th>\n",
       "      <th>imdb_votes</th>\n",
       "      <th>language</th>\n",
       "      <th>metascore</th>\n",
       "      <th>plot</th>\n",
       "      <th>production</th>\n",
       "      <th>rated</th>\n",
       "      <th>released</th>\n",
       "      <th>title</th>\n",
       "      <th>writer</th>\n",
       "      <th>year</th>\n",
       "      <th>title_director</th>\n",
       "    </tr>\n",
       "  </thead>\n",
       "  <tbody>\n",
       "    <tr>\n",
       "      <th>count</th>\n",
       "      <td>15673</td>\n",
       "      <td>15673</td>\n",
       "      <td>15431</td>\n",
       "      <td>15673</td>\n",
       "      <td>15673</td>\n",
       "      <td>15673</td>\n",
       "      <td>15673</td>\n",
       "      <td>15673</td>\n",
       "      <td>15673</td>\n",
       "      <td>15673</td>\n",
       "      <td>15673</td>\n",
       "      <td>15431</td>\n",
       "      <td>15673</td>\n",
       "      <td>15673</td>\n",
       "      <td>15673</td>\n",
       "      <td>15673</td>\n",
       "      <td>15673</td>\n",
       "      <td>15673</td>\n",
       "    </tr>\n",
       "    <tr>\n",
       "      <th>unique</th>\n",
       "      <td>15267</td>\n",
       "      <td>2350</td>\n",
       "      <td>2900</td>\n",
       "      <td>1160</td>\n",
       "      <td>7035</td>\n",
       "      <td>949</td>\n",
       "      <td>82</td>\n",
       "      <td>10499</td>\n",
       "      <td>1338</td>\n",
       "      <td>98</td>\n",
       "      <td>14990</td>\n",
       "      <td>2089</td>\n",
       "      <td>23</td>\n",
       "      <td>8363</td>\n",
       "      <td>15646</td>\n",
       "      <td>13314</td>\n",
       "      <td>236</td>\n",
       "      <td>15673</td>\n",
       "    </tr>\n",
       "    <tr>\n",
       "      <th>top</th>\n",
       "      <td>N/A</td>\n",
       "      <td>N/A</td>\n",
       "      <td>N/A</td>\n",
       "      <td>USA</td>\n",
       "      <td>N/A</td>\n",
       "      <td>Drama</td>\n",
       "      <td>7.2</td>\n",
       "      <td>N/A</td>\n",
       "      <td>English</td>\n",
       "      <td>N/A</td>\n",
       "      <td>N/A</td>\n",
       "      <td>N/A</td>\n",
       "      <td>R</td>\n",
       "      <td>N/A</td>\n",
       "      <td>Early to Bed</td>\n",
       "      <td>N/A</td>\n",
       "      <td>2004</td>\n",
       "      <td>Boogie Nights: Paul Thomas Anderson</td>\n",
       "    </tr>\n",
       "    <tr>\n",
       "      <th>freq</th>\n",
       "      <td>231</td>\n",
       "      <td>5578</td>\n",
       "      <td>12402</td>\n",
       "      <td>8447</td>\n",
       "      <td>343</td>\n",
       "      <td>1153</td>\n",
       "      <td>683</td>\n",
       "      <td>350</td>\n",
       "      <td>9330</td>\n",
       "      <td>10322</td>\n",
       "      <td>667</td>\n",
       "      <td>3198</td>\n",
       "      <td>4584</td>\n",
       "      <td>653</td>\n",
       "      <td>2</td>\n",
       "      <td>870</td>\n",
       "      <td>538</td>\n",
       "      <td>1</td>\n",
       "    </tr>\n",
       "  </tbody>\n",
       "</table>\n",
       "</div>"
      ],
      "text/plain": [
       "       actors awards box_office country director  genre imdb_rating  \\\n",
       "count   15673  15673      15431   15673    15673  15673       15673   \n",
       "unique  15267   2350       2900    1160     7035    949          82   \n",
       "top       N/A    N/A        N/A     USA      N/A  Drama         7.2   \n",
       "freq      231   5578      12402    8447      343   1153         683   \n",
       "\n",
       "       imdb_votes language metascore   plot production  rated released  \\\n",
       "count       15673    15673     15673  15673      15431  15673    15673   \n",
       "unique      10499     1338        98  14990       2089     23     8363   \n",
       "top           N/A  English       N/A    N/A        N/A      R      N/A   \n",
       "freq          350     9330     10322    667       3198   4584      653   \n",
       "\n",
       "               title writer   year                       title_director  \n",
       "count          15673  15673  15673                                15673  \n",
       "unique         15646  13314    236                                15673  \n",
       "top     Early to Bed    N/A   2004  Boogie Nights: Paul Thomas Anderson  \n",
       "freq               2    870    538                                    1  "
      ]
     },
     "execution_count": 3,
     "metadata": {},
     "output_type": "execute_result"
    }
   ],
   "source": [
    "df.describe()"
   ]
  },
  {
   "cell_type": "code",
   "execution_count": 4,
   "metadata": {
    "collapsed": false
   },
   "outputs": [],
   "source": [
    "#process dataframe into network\n",
    "allActors = []\n",
    "biGraph = nx.Graph()\n",
    "actorSet = 0\n",
    "movieSet = 1\n",
    "count = 0\n",
    "\n",
    "for index, row in df.iterrows():\n",
    "    movie = row['title_director']\n",
    "    biGraph.add_nodes_from([movie], bipartite=movieSet)\n",
    "    actors = row['actors']\n",
    "    if isinstance(actors, str):\n",
    "        actors = actors.split(', ')\n",
    "        #print(actors)\n",
    "        for actor in actors:\n",
    "            if not any(actor == name for name in allActors): # if actor is not in allActors already:\n",
    "                allActors.append(actor)\n",
    "                biGraph.add_nodes_from([actor], bipartite=actorSet)\n",
    "                biGraph.add_edge(movie, actor, weight=1)\n",
    "            else:\n",
    "                #currWeight = biGraph[movie][actor]['weight']\n",
    "                #print(actor)\n",
    "                biGraph.add_edge(movie, actor, weight=1)\n",
    "    count = count + 1\n",
    "    #if count > 200:\n",
    "    #    break\n"
   ]
  },
  {
   "cell_type": "code",
   "execution_count": 5,
   "metadata": {
    "collapsed": false
   },
   "outputs": [
    {
     "name": "stdout",
     "output_type": "stream",
     "text": [
      "too many nodes to plot in a reasonable amount of time\n"
     ]
    }
   ],
   "source": [
    "if(len(biGraph.nodes) > 50):\n",
    "    print('too many nodes to plot in a reasonable amount of time')\n",
    "else:\n",
    "    nx.draw(biGraph)\n",
    "    plt.show()"
   ]
  },
  {
   "cell_type": "code",
   "execution_count": 6,
   "metadata": {
    "collapsed": false
   },
   "outputs": [
    {
     "name": "stdout",
     "output_type": "stream",
     "text": [
      "15674\n",
      "27352\n"
     ]
    }
   ],
   "source": [
    "movieNodes = set(n for n, d in biGraph.nodes(data=True) if d['bipartite']==movieSet)\n",
    "actorNodes = set(n for n, d in biGraph.nodes(data=True) if d['bipartite']==actorSet)\n",
    "print(len(movieNodes))\n",
    "print(len(actorNodes))"
   ]
  },
  {
   "cell_type": "code",
   "execution_count": 7,
   "metadata": {
    "collapsed": false
   },
   "outputs": [
    {
     "data": {
      "text/plain": [
       "21"
      ]
     },
     "execution_count": 7,
     "metadata": {},
     "output_type": "execute_result"
    }
   ],
   "source": [
    "len(biGraph['Mickey Rooney'])"
   ]
  },
  {
   "cell_type": "code",
   "execution_count": 15,
   "metadata": {
    "collapsed": false
   },
   "outputs": [
    {
     "data": {
      "text/plain": [
       "1"
      ]
     },
     "execution_count": 15,
     "metadata": {},
     "output_type": "execute_result"
    }
   ],
   "source": [
    "biGraph['Inception: Christopher Nolan']['Leonardo DiCaprio']['weight']"
   ]
  },
  {
   "cell_type": "code",
   "execution_count": 107,
   "metadata": {
    "collapsed": false
   },
   "outputs": [
    {
     "data": {
      "image/png": "[encoded data removed]",
      "text/plain": [
       "<matplotlib.figure.Figure at 0x26985ac0780>"
      ]
     },
     "metadata": {},
     "output_type": "display_data"
    }
   ],
   "source": [
    "movieDegrees = sorted([d for n, d in biGraph.degree(movieNodes)])\n",
    "#print(actorDegrees)\n",
    "degreeCount = collections.Counter(movieDegrees)\n",
    "degree, count = zip(*degreeCount.items())\n",
    "fig, ax = plt.subplots()\n",
    "bars = plt.bar(degree, count, width=0.80, color='b')\n",
    "\n",
    "for bar in bars:\n",
    "    height = bar.get_height()\n",
    "    ax.text(bar.get_x() + bar.get_width()/2., 1.05*height,\n",
    "                '%d' % int(height),\n",
    "                ha='center', va='bottom')\n",
    "\n",
    "plt.title(\"Degree Histogram\")\n",
    "plt.ylabel(\"Count\")\n",
    "plt.yscale(\"log\")\n",
    "plt.xlabel(\"Degree\")\n",
    "start, end = ax.get_xlim()\n",
    "ax.xaxis.set_ticks(np.arange(0, end, 1))\n",
    "\n",
    "plt.show()"
   ]
  },
  {
   "cell_type": "code",
   "execution_count": 125,
   "metadata": {
    "collapsed": false
   },
   "outputs": [
    {
     "name": "stdout",
     "output_type": "stream",
     "text": [
      "Oliver Hardy: 50\n",
      "N/A: 231\n",
      "Mel Blanc: 87\n",
      "Robert De Niro: 63\n",
      "Michael Caine: 54\n",
      "John Wayne: 61\n"
     ]
    }
   ],
   "source": [
    "for actor in actorNodes:\n",
    "    if biGraph.degree(actor) >= 50:\n",
    "        print(actor + \": \" + str(biGraph.degree(actor)))"
   ]
  },
  {
   "cell_type": "code",
   "execution_count": 124,
   "metadata": {
    "collapsed": false
   },
   "outputs": [
    {
     "data": {
      "text/plain": [
       "231"
      ]
     },
     "execution_count": 124,
     "metadata": {},
     "output_type": "execute_result"
    }
   ],
   "source": [
    "len(biGraph['N/A'])"
   ]
  },
  {
   "cell_type": "code",
   "execution_count": 121,
   "metadata": {
    "collapsed": false
   },
   "outputs": [
    {
     "data": {
      "image/png": "[encoded data removed]",
      "text/plain": [
       "<matplotlib.figure.Figure at 0x26986186ef0>"
      ]
     },
     "metadata": {},
     "output_type": "display_data"
    }
   ],
   "source": [
    "actorMovieDegrees = sorted([d for n, d in biGraph.degree(actorNodes)])\n",
    "actorMovieDegrees = [i for i in actorMovieDegrees if i != len(biGraph['N/A'])]\n",
    "#print(actorMovieDegrees)\n",
    "degreeCount = collections.Counter(actorMovieDegrees)\n",
    "degree, count = zip(*degreeCount.items())\n",
    "fig, ax = plt.subplots()\n",
    "bars = plt.bar(degree, count, width=0.80, color='b')\n",
    "\n",
    "plt.title(\"Degree Histogram\")\n",
    "plt.ylabel(\"Count\")\n",
    "plt.yscale(\"log\")\n",
    "plt.xlabel(\"Degree\")\n",
    "start, end = ax.get_xlim()\n",
    "ax.xaxis.set_ticks(np.arange(0, end, 5))\n",
    "\n",
    "plt.show()"
   ]
  },
  {
   "cell_type": "code",
   "execution_count": 8,
   "metadata": {
    "collapsed": false
   },
   "outputs": [],
   "source": [
    "actorGraphUnweighted = nx.projected_graph(biGraph, actorNodes)\n",
    "actorGraph = bipartite.weighted_projected_graph(biGraph, actorNodes)"
   ]
  },
  {
   "cell_type": "code",
   "execution_count": 75,
   "metadata": {
    "collapsed": false
   },
   "outputs": [
    {
     "name": "stdout",
     "output_type": "stream",
     "text": [
      "3\n",
      "53\n"
     ]
    }
   ],
   "source": [
    "print(actorGraph['James Franco']['Seth Rogen']['weight'])\n",
    "print(len(actorGraph['James Franco']))"
   ]
  },
  {
   "cell_type": "code",
   "execution_count": 74,
   "metadata": {
    "collapsed": false
   },
   "outputs": [
    {
     "data": {
      "image/png": "[encoded data removed]",
      "text/plain": [
       "<matplotlib.figure.Figure at 0x26986186128>"
      ]
     },
     "metadata": {},
     "output_type": "display_data"
    }
   ],
   "source": [
    "actorDegrees = sorted([d for n, d in actorGraph.degree(weight='weight')])\n",
    "#print(actorDegrees)\n",
    "degreeCount = collections.Counter(actorDegrees)\n",
    "degree, count = zip(*degreeCount.items())\n",
    "\n",
    "fig, ax = plt.subplots()\n",
    "plt.bar(degree, count, width=0.80, color='b')\n",
    "plt.plot(degree, count, 'ko')\n",
    "\n",
    "plt.title(\"Degree Histogram\")\n",
    "plt.ylabel(\"Count\")\n",
    "plt.yscale(\"log\")\n",
    "plt.xlabel(\"Degree\")\n",
    "start, end = ax.get_xlim()\n",
    "ax.xaxis.set_ticks(np.arange(0, end, 25))\n",
    "\n",
    "plt.show()"
   ]
  },
  {
   "cell_type": "code",
   "execution_count": 93,
   "metadata": {
    "collapsed": false
   },
   "outputs": [
    {
     "name": "stderr",
     "output_type": "stream",
     "text": [
      "C:\\ProgramData\\Anaconda3\\lib\\site-packages\\ipykernel\\__main__.py:2: RuntimeWarning: divide by zero encountered in power\n",
      "  from ipykernel import kernelapp as app\n"
     ]
    },
    {
     "data": {
      "image/png": "[encoded data removed]",
      "text/plain": [
       "<matplotlib.figure.Figure at 0x269875c22b0>"
      ]
     },
     "metadata": {},
     "output_type": "display_data"
    }
   ],
   "source": [
    "def func(x, a, b, c):\n",
    "    return a*(x**-b) + c\n",
    "    #return a*np.exp(-b*x)-c\n",
    "\n",
    "#popt, pcov = curve_fit(func, degree, count, p0=(50000, 2, 1e-8), maxfev=50000)\n",
    "\n",
    "xx = np.linspace(min(degree), max(degree))\n",
    "yy = func(xx, 100000, 2, 0)\n",
    "yyy = func(xx, 2000, 2, 0)\n",
    "#yy = func(xx, *popt)\n",
    "\n",
    "plt.plot(xx, yy)\n",
    "plt.plot(xx, yyy)\n",
    "plt.plot(degree, count, 'ko')\n",
    "plt.yscale('log')\n",
    "plt.ylabel(\"Count\")\n",
    "plt.xlabel(\"Degree\")\n",
    "\n",
    "plt.ylim([0.5, 10e4])\n",
    "plt.show()"
   ]
  },
  {
   "cell_type": "code",
   "execution_count": 94,
   "metadata": {
    "collapsed": false
   },
   "outputs": [
    {
     "data": {
      "image/png": "[encoded data removed]",
      "text/plain": [
       "<matplotlib.figure.Figure at 0x2698621b048>"
      ]
     },
     "metadata": {},
     "output_type": "display_data"
    }
   ],
   "source": [
    "actorDegrees = sorted([d for n, d in actorGraph.degree(weight='weight')])\n",
    "actorDegrees = [i for i in actorDegrees if i <=25]\n",
    "#print(actorDegrees)\n",
    "degreeCount = collections.Counter(actorDegrees)\n",
    "degree, count = zip(*degreeCount.items())\n",
    "\n",
    "fig, ax = plt.subplots()\n",
    "plt.bar(degree, count, width=0.80, color='b')\n",
    "plt.plot(degree, count, 'ko')\n",
    "\n",
    "plt.title(\"Degree Histogram\")\n",
    "plt.ylabel(\"Count\")\n",
    "plt.yscale(\"log\")\n",
    "plt.xlabel(\"Degree\")\n",
    "start, end = ax.get_xlim()\n",
    "ax.xaxis.set_ticks(np.arange(0, end, 3))\n",
    "\n",
    "plt.show()"
   ]
  }
 ],
 "metadata": {
  "kernelspec": {
   "display_name": "Python 3",
   "language": "python",
   "name": "python3"
  },
  "language_info": {
   "codemirror_mode": {
    "name": "ipython",
    "version": 3
   },
   "file_extension": ".py",
   "mimetype": "text/x-python",
   "name": "python",
   "nbconvert_exporter": "python",
   "pygments_lexer": "ipython3",
   "version": "3.6.0"
  }
 },
 "nbformat": 4,
 "nbformat_minor": 2
}
