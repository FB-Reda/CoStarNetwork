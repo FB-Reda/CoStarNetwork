{
 "cells": [
  {
   "cell_type": "code",
   "execution_count": 126,
   "metadata": {
    "collapsed": false,
    "scrolled": true
   },
   "outputs": [
    {
     "name": "stdout",
     "output_type": "stream",
     "text": [
      "0.19.2\n",
      "2.0\n"
     ]
    }
   ],
   "source": [
    "import os\n",
    "import omdb\n",
    "import csv\n",
    "import pickle\n",
    "import math\n",
    "import collections\n",
    "import pandas as pd\n",
    "print(pd.__version__)\n",
    "import numpy as np\n",
    "import networkx as nx\n",
    "import matplotlib.pyplot as plt\n",
    "from networkx.algorithms import bipartite\n",
    "from networkx.algorithms import clique\n",
    "from networkx.algorithms import cluster\n",
    "from networkx.algorithms import link_prediction\n",
    "from networkx.algorithms import shortest_paths\n",
    "from scipy.optimize import curve_fit\n",
    "print(nx.__version__)\n",
    "pd.set_option('display.max_columns', None)\n",
    "\n",
    "import itertools\n",
    "import sklearn as sk\n",
    "import sklearn.cluster as cluster\n",
    "from sklearn import linear_model, decomposition, preprocessing\n",
    "from sklearn.metrics import confusion_matrix, explained_variance_score, mean_squared_error, r2_score\n",
    "from sklearn.model_selection import train_test_split"
   ]
  },
  {
   "cell_type": "code",
   "execution_count": 92,
   "metadata": {
    "collapsed": false
   },
   "outputs": [],
   "source": [
    "dfOriginal = pickle.load(open(\"databasedump.pickle\", 'rb'))\n",
    "df = dfOriginal\n",
    "#'box_office', 'imdb_rating', 'imdb_votes', 'metascore'\n",
    "df['imdb_rating'] = df['imdb_rating'].str.replace(',', '')\n",
    "df['imdb_votes'] = df['imdb_votes'].str.replace(',', '')\n",
    "df['metascore'] = df['metascore'].str.replace(',', '')\n",
    "df['box_office'] = df['box_office'].str.replace(',', '')\n",
    "df['box_office'] = df['box_office'].str.replace('$', '')\n",
    "df = df.replace(\"N/A\", np.nan)\n",
    "#df['imdb_rating'] = pd.to_numeric(df['imdb_rating'])\n",
    "#df['imdb_rating'] = df['imdb_rating'].convert_objects(convert_numeric=True)\n",
    "#df['year'] = df['year'].convert_objects(convert_numeric=True)"
   ]
  },
  {
   "cell_type": "code",
   "execution_count": 93,
   "metadata": {
    "collapsed": false
   },
   "outputs": [],
   "source": [
    "#print(pd.isnull(df).sum())\n",
    "df = df.dropna(axis=0, how='any', subset=['imdb_rating', 'year', 'box_office'])\n",
    "#print(pd.isnull(dfNoNA).sum())"
   ]
  },
  {
   "cell_type": "code",
   "execution_count": 94,
   "metadata": {
    "collapsed": false
   },
   "outputs": [
    {
     "name": "stdout",
     "output_type": "stream",
     "text": [
      "25700.0\n"
     ]
    }
   ],
   "source": [
    "df['award_dummy'] = 0\n",
    "\n",
    "for index, row in df.iterrows():\n",
    "    awards = row['awards']\n",
    "    boxOffice = row['box_office']\n",
    "    #print(movie)\n",
    "    #print(str(movieDegrees[movie]))\n",
    "    if isinstance(awards, str):\n",
    "        df.set_value(index, 'award_dummy', 1)\n",
    "    else:\n",
    "        df.set_value(index, 'award_dummy', 0)\n",
    "        \n",
    "    if 'k' in boxOffice:\n",
    "        #print(type(boxOffice))\n",
    "        boxOffice = boxOffice.replace('k', '')\n",
    "        #print(boxOffice)\n",
    "        boxOffice = float(boxOffice)\n",
    "        boxOffice = boxOffice * 1000\n",
    "        boxOffice = str(boxOffice)\n",
    "        print(boxOffice)\n",
    "        df.set_value(index, 'box_office', boxOffice)"
   ]
  },
  {
   "cell_type": "code",
   "execution_count": 177,
   "metadata": {
    "collapsed": false
   },
   "outputs": [
    {
     "ename": "AttributeError",
     "evalue": "'DataFrame' object has no attribute 'table'",
     "output_type": "error",
     "traceback": [
      "\u001b[0;31m---------------------------------------------------------------------------\u001b[0m",
      "\u001b[0;31mAttributeError\u001b[0m                            Traceback (most recent call last)",
      "\u001b[0;32m<ipython-input-177-47db3719cc61>\u001b[0m in \u001b[0;36m<module>\u001b[0;34m()\u001b[0m\n\u001b[0;32m----> 1\u001b[0;31m \u001b[0mdf\u001b[0m\u001b[1;33m.\u001b[0m\u001b[0mtable\u001b[0m\u001b[1;33m(\u001b[0m\u001b[1;33m)\u001b[0m\u001b[1;33m\u001b[0m\u001b[0m\n\u001b[0m",
      "\u001b[0;32mC:\\ProgramData\\Anaconda3\\lib\\site-packages\\pandas\\core\\generic.py\u001b[0m in \u001b[0;36m__getattr__\u001b[0;34m(self, name)\u001b[0m\n\u001b[1;32m   2742\u001b[0m             \u001b[1;32mif\u001b[0m \u001b[0mname\u001b[0m \u001b[1;32min\u001b[0m \u001b[0mself\u001b[0m\u001b[1;33m.\u001b[0m\u001b[0m_info_axis\u001b[0m\u001b[1;33m:\u001b[0m\u001b[1;33m\u001b[0m\u001b[0m\n\u001b[1;32m   2743\u001b[0m                 \u001b[1;32mreturn\u001b[0m \u001b[0mself\u001b[0m\u001b[1;33m[\u001b[0m\u001b[0mname\u001b[0m\u001b[1;33m]\u001b[0m\u001b[1;33m\u001b[0m\u001b[0m\n\u001b[0;32m-> 2744\u001b[0;31m             \u001b[1;32mreturn\u001b[0m \u001b[0mobject\u001b[0m\u001b[1;33m.\u001b[0m\u001b[0m__getattribute__\u001b[0m\u001b[1;33m(\u001b[0m\u001b[0mself\u001b[0m\u001b[1;33m,\u001b[0m \u001b[0mname\u001b[0m\u001b[1;33m)\u001b[0m\u001b[1;33m\u001b[0m\u001b[0m\n\u001b[0m\u001b[1;32m   2745\u001b[0m \u001b[1;33m\u001b[0m\u001b[0m\n\u001b[1;32m   2746\u001b[0m     \u001b[1;32mdef\u001b[0m \u001b[0m__setattr__\u001b[0m\u001b[1;33m(\u001b[0m\u001b[0mself\u001b[0m\u001b[1;33m,\u001b[0m \u001b[0mname\u001b[0m\u001b[1;33m,\u001b[0m \u001b[0mvalue\u001b[0m\u001b[1;33m)\u001b[0m\u001b[1;33m:\u001b[0m\u001b[1;33m\u001b[0m\u001b[0m\n",
      "\u001b[0;31mAttributeError\u001b[0m: 'DataFrame' object has no attribute 'table'"
     ]
    }
   ],
   "source": [
    "df.table()"
   ]
  },
  {
   "cell_type": "code",
   "execution_count": 53,
   "metadata": {
    "collapsed": false
   },
   "outputs": [
    {
     "data": {
      "text/html": [
       "<div>\n",
       "<table border=\"1\" class=\"dataframe\">\n",
       "  <thead>\n",
       "    <tr style=\"text-align: right;\">\n",
       "      <th></th>\n",
       "      <th>actors</th>\n",
       "      <th>awards</th>\n",
       "      <th>box_office</th>\n",
       "      <th>country</th>\n",
       "      <th>director</th>\n",
       "      <th>genre</th>\n",
       "      <th>imdb_rating</th>\n",
       "      <th>imdb_votes</th>\n",
       "      <th>language</th>\n",
       "      <th>metascore</th>\n",
       "      <th>plot</th>\n",
       "      <th>production</th>\n",
       "      <th>rated</th>\n",
       "      <th>released</th>\n",
       "      <th>title</th>\n",
       "      <th>writer</th>\n",
       "      <th>year</th>\n",
       "      <th>title_director</th>\n",
       "      <th>award_dummy</th>\n",
       "    </tr>\n",
       "  </thead>\n",
       "  <tbody>\n",
       "    <tr>\n",
       "      <th>count</th>\n",
       "      <td>3028</td>\n",
       "      <td>2755</td>\n",
       "      <td>3029</td>\n",
       "      <td>3029</td>\n",
       "      <td>3029</td>\n",
       "      <td>3029</td>\n",
       "      <td>3029</td>\n",
       "      <td>3029</td>\n",
       "      <td>3028</td>\n",
       "      <td>2887</td>\n",
       "      <td>3028</td>\n",
       "      <td>3018</td>\n",
       "      <td>2961</td>\n",
       "      <td>3027</td>\n",
       "      <td>3029</td>\n",
       "      <td>2979</td>\n",
       "      <td>3029</td>\n",
       "      <td>3029</td>\n",
       "      <td>3029.000000</td>\n",
       "    </tr>\n",
       "    <tr>\n",
       "      <th>unique</th>\n",
       "      <td>3008</td>\n",
       "      <td>1008</td>\n",
       "      <td>2899</td>\n",
       "      <td>467</td>\n",
       "      <td>1708</td>\n",
       "      <td>339</td>\n",
       "      <td>72</td>\n",
       "      <td>2993</td>\n",
       "      <td>534</td>\n",
       "      <td>94</td>\n",
       "      <td>3024</td>\n",
       "      <td>434</td>\n",
       "      <td>11</td>\n",
       "      <td>1245</td>\n",
       "      <td>3026</td>\n",
       "      <td>2758</td>\n",
       "      <td>57</td>\n",
       "      <td>3029</td>\n",
       "      <td>NaN</td>\n",
       "    </tr>\n",
       "    <tr>\n",
       "      <th>top</th>\n",
       "      <td>Ian McKellen, Martin Freeman, Richard Armitage...</td>\n",
       "      <td>1 nomination.</td>\n",
       "      <td>100000</td>\n",
       "      <td>USA</td>\n",
       "      <td>Steven Soderbergh</td>\n",
       "      <td>Comedy, Drama, Romance</td>\n",
       "      <td>6.5</td>\n",
       "      <td>5723</td>\n",
       "      <td>English</td>\n",
       "      <td>55</td>\n",
       "      <td>A five year-old boy develops a relationship wi...</td>\n",
       "      <td>Warner Bros. Pictures</td>\n",
       "      <td>R</td>\n",
       "      <td>11 Oct 2002</td>\n",
       "      <td>Ponyo</td>\n",
       "      <td>Woody Allen</td>\n",
       "      <td>2006</td>\n",
       "      <td>Looking for Comedy in the Muslim World: Albert...</td>\n",
       "      <td>NaN</td>\n",
       "    </tr>\n",
       "    <tr>\n",
       "      <th>freq</th>\n",
       "      <td>3</td>\n",
       "      <td>228</td>\n",
       "      <td>14</td>\n",
       "      <td>1607</td>\n",
       "      <td>14</td>\n",
       "      <td>169</td>\n",
       "      <td>134</td>\n",
       "      <td>2</td>\n",
       "      <td>1725</td>\n",
       "      <td>71</td>\n",
       "      <td>2</td>\n",
       "      <td>206</td>\n",
       "      <td>1283</td>\n",
       "      <td>8</td>\n",
       "      <td>2</td>\n",
       "      <td>12</td>\n",
       "      <td>234</td>\n",
       "      <td>1</td>\n",
       "      <td>NaN</td>\n",
       "    </tr>\n",
       "    <tr>\n",
       "      <th>mean</th>\n",
       "      <td>NaN</td>\n",
       "      <td>NaN</td>\n",
       "      <td>NaN</td>\n",
       "      <td>NaN</td>\n",
       "      <td>NaN</td>\n",
       "      <td>NaN</td>\n",
       "      <td>NaN</td>\n",
       "      <td>NaN</td>\n",
       "      <td>NaN</td>\n",
       "      <td>NaN</td>\n",
       "      <td>NaN</td>\n",
       "      <td>NaN</td>\n",
       "      <td>NaN</td>\n",
       "      <td>NaN</td>\n",
       "      <td>NaN</td>\n",
       "      <td>NaN</td>\n",
       "      <td>NaN</td>\n",
       "      <td>NaN</td>\n",
       "      <td>0.909541</td>\n",
       "    </tr>\n",
       "    <tr>\n",
       "      <th>std</th>\n",
       "      <td>NaN</td>\n",
       "      <td>NaN</td>\n",
       "      <td>NaN</td>\n",
       "      <td>NaN</td>\n",
       "      <td>NaN</td>\n",
       "      <td>NaN</td>\n",
       "      <td>NaN</td>\n",
       "      <td>NaN</td>\n",
       "      <td>NaN</td>\n",
       "      <td>NaN</td>\n",
       "      <td>NaN</td>\n",
       "      <td>NaN</td>\n",
       "      <td>NaN</td>\n",
       "      <td>NaN</td>\n",
       "      <td>NaN</td>\n",
       "      <td>NaN</td>\n",
       "      <td>NaN</td>\n",
       "      <td>NaN</td>\n",
       "      <td>0.286885</td>\n",
       "    </tr>\n",
       "    <tr>\n",
       "      <th>min</th>\n",
       "      <td>NaN</td>\n",
       "      <td>NaN</td>\n",
       "      <td>NaN</td>\n",
       "      <td>NaN</td>\n",
       "      <td>NaN</td>\n",
       "      <td>NaN</td>\n",
       "      <td>NaN</td>\n",
       "      <td>NaN</td>\n",
       "      <td>NaN</td>\n",
       "      <td>NaN</td>\n",
       "      <td>NaN</td>\n",
       "      <td>NaN</td>\n",
       "      <td>NaN</td>\n",
       "      <td>NaN</td>\n",
       "      <td>NaN</td>\n",
       "      <td>NaN</td>\n",
       "      <td>NaN</td>\n",
       "      <td>NaN</td>\n",
       "      <td>0.000000</td>\n",
       "    </tr>\n",
       "    <tr>\n",
       "      <th>25%</th>\n",
       "      <td>NaN</td>\n",
       "      <td>NaN</td>\n",
       "      <td>NaN</td>\n",
       "      <td>NaN</td>\n",
       "      <td>NaN</td>\n",
       "      <td>NaN</td>\n",
       "      <td>NaN</td>\n",
       "      <td>NaN</td>\n",
       "      <td>NaN</td>\n",
       "      <td>NaN</td>\n",
       "      <td>NaN</td>\n",
       "      <td>NaN</td>\n",
       "      <td>NaN</td>\n",
       "      <td>NaN</td>\n",
       "      <td>NaN</td>\n",
       "      <td>NaN</td>\n",
       "      <td>NaN</td>\n",
       "      <td>NaN</td>\n",
       "      <td>1.000000</td>\n",
       "    </tr>\n",
       "    <tr>\n",
       "      <th>50%</th>\n",
       "      <td>NaN</td>\n",
       "      <td>NaN</td>\n",
       "      <td>NaN</td>\n",
       "      <td>NaN</td>\n",
       "      <td>NaN</td>\n",
       "      <td>NaN</td>\n",
       "      <td>NaN</td>\n",
       "      <td>NaN</td>\n",
       "      <td>NaN</td>\n",
       "      <td>NaN</td>\n",
       "      <td>NaN</td>\n",
       "      <td>NaN</td>\n",
       "      <td>NaN</td>\n",
       "      <td>NaN</td>\n",
       "      <td>NaN</td>\n",
       "      <td>NaN</td>\n",
       "      <td>NaN</td>\n",
       "      <td>NaN</td>\n",
       "      <td>1.000000</td>\n",
       "    </tr>\n",
       "    <tr>\n",
       "      <th>75%</th>\n",
       "      <td>NaN</td>\n",
       "      <td>NaN</td>\n",
       "      <td>NaN</td>\n",
       "      <td>NaN</td>\n",
       "      <td>NaN</td>\n",
       "      <td>NaN</td>\n",
       "      <td>NaN</td>\n",
       "      <td>NaN</td>\n",
       "      <td>NaN</td>\n",
       "      <td>NaN</td>\n",
       "      <td>NaN</td>\n",
       "      <td>NaN</td>\n",
       "      <td>NaN</td>\n",
       "      <td>NaN</td>\n",
       "      <td>NaN</td>\n",
       "      <td>NaN</td>\n",
       "      <td>NaN</td>\n",
       "      <td>NaN</td>\n",
       "      <td>1.000000</td>\n",
       "    </tr>\n",
       "    <tr>\n",
       "      <th>max</th>\n",
       "      <td>NaN</td>\n",
       "      <td>NaN</td>\n",
       "      <td>NaN</td>\n",
       "      <td>NaN</td>\n",
       "      <td>NaN</td>\n",
       "      <td>NaN</td>\n",
       "      <td>NaN</td>\n",
       "      <td>NaN</td>\n",
       "      <td>NaN</td>\n",
       "      <td>NaN</td>\n",
       "      <td>NaN</td>\n",
       "      <td>NaN</td>\n",
       "      <td>NaN</td>\n",
       "      <td>NaN</td>\n",
       "      <td>NaN</td>\n",
       "      <td>NaN</td>\n",
       "      <td>NaN</td>\n",
       "      <td>NaN</td>\n",
       "      <td>1.000000</td>\n",
       "    </tr>\n",
       "  </tbody>\n",
       "</table>\n",
       "</div>"
      ],
      "text/plain": [
       "                                                   actors         awards  \\\n",
       "count                                                3028           2755   \n",
       "unique                                               3008           1008   \n",
       "top     Ian McKellen, Martin Freeman, Richard Armitage...  1 nomination.   \n",
       "freq                                                    3            228   \n",
       "mean                                                  NaN            NaN   \n",
       "std                                                   NaN            NaN   \n",
       "min                                                   NaN            NaN   \n",
       "25%                                                   NaN            NaN   \n",
       "50%                                                   NaN            NaN   \n",
       "75%                                                   NaN            NaN   \n",
       "max                                                   NaN            NaN   \n",
       "\n",
       "       box_office country           director                   genre  \\\n",
       "count        3029    3029               3029                    3029   \n",
       "unique       2899     467               1708                     339   \n",
       "top        100000     USA  Steven Soderbergh  Comedy, Drama, Romance   \n",
       "freq           14    1607                 14                     169   \n",
       "mean          NaN     NaN                NaN                     NaN   \n",
       "std           NaN     NaN                NaN                     NaN   \n",
       "min           NaN     NaN                NaN                     NaN   \n",
       "25%           NaN     NaN                NaN                     NaN   \n",
       "50%           NaN     NaN                NaN                     NaN   \n",
       "75%           NaN     NaN                NaN                     NaN   \n",
       "max           NaN     NaN                NaN                     NaN   \n",
       "\n",
       "       imdb_rating imdb_votes language metascore  \\\n",
       "count         3029       3029     3028      2887   \n",
       "unique          72       2993      534        94   \n",
       "top            6.5       5723  English        55   \n",
       "freq           134          2     1725        71   \n",
       "mean           NaN        NaN      NaN       NaN   \n",
       "std            NaN        NaN      NaN       NaN   \n",
       "min            NaN        NaN      NaN       NaN   \n",
       "25%            NaN        NaN      NaN       NaN   \n",
       "50%            NaN        NaN      NaN       NaN   \n",
       "75%            NaN        NaN      NaN       NaN   \n",
       "max            NaN        NaN      NaN       NaN   \n",
       "\n",
       "                                                     plot  \\\n",
       "count                                                3028   \n",
       "unique                                               3024   \n",
       "top     A five year-old boy develops a relationship wi...   \n",
       "freq                                                    2   \n",
       "mean                                                  NaN   \n",
       "std                                                   NaN   \n",
       "min                                                   NaN   \n",
       "25%                                                   NaN   \n",
       "50%                                                   NaN   \n",
       "75%                                                   NaN   \n",
       "max                                                   NaN   \n",
       "\n",
       "                   production rated     released  title       writer  year  \\\n",
       "count                    3018  2961         3027   3029         2979  3029   \n",
       "unique                    434    11         1245   3026         2758    57   \n",
       "top     Warner Bros. Pictures     R  11 Oct 2002  Ponyo  Woody Allen  2006   \n",
       "freq                      206  1283            8      2           12   234   \n",
       "mean                      NaN   NaN          NaN    NaN          NaN   NaN   \n",
       "std                       NaN   NaN          NaN    NaN          NaN   NaN   \n",
       "min                       NaN   NaN          NaN    NaN          NaN   NaN   \n",
       "25%                       NaN   NaN          NaN    NaN          NaN   NaN   \n",
       "50%                       NaN   NaN          NaN    NaN          NaN   NaN   \n",
       "75%                       NaN   NaN          NaN    NaN          NaN   NaN   \n",
       "max                       NaN   NaN          NaN    NaN          NaN   NaN   \n",
       "\n",
       "                                           title_director  award_dummy  \n",
       "count                                                3029  3029.000000  \n",
       "unique                                               3029          NaN  \n",
       "top     Looking for Comedy in the Muslim World: Albert...          NaN  \n",
       "freq                                                    1          NaN  \n",
       "mean                                                  NaN     0.909541  \n",
       "std                                                   NaN     0.286885  \n",
       "min                                                   NaN     0.000000  \n",
       "25%                                                   NaN     1.000000  \n",
       "50%                                                   NaN     1.000000  \n",
       "75%                                                   NaN     1.000000  \n",
       "max                                                   NaN     1.000000  "
      ]
     },
     "execution_count": 53,
     "metadata": {},
     "output_type": "execute_result"
    }
   ],
   "source": [
    "df.describe(include = 'all')"
   ]
  },
  {
   "cell_type": "code",
   "execution_count": 97,
   "metadata": {
    "collapsed": false
   },
   "outputs": [
    {
     "data": {
      "text/html": [
       "<div>\n",
       "<table border=\"1\" class=\"dataframe\">\n",
       "  <thead>\n",
       "    <tr style=\"text-align: right;\">\n",
       "      <th></th>\n",
       "      <th>box_office</th>\n",
       "      <th>imdb_rating</th>\n",
       "      <th>imdb_votes</th>\n",
       "      <th>metascore</th>\n",
       "      <th>year</th>\n",
       "      <th>award_dummy</th>\n",
       "      <th>title_director</th>\n",
       "    </tr>\n",
       "  </thead>\n",
       "  <tbody>\n",
       "    <tr>\n",
       "      <th>count</th>\n",
       "      <td>3.029000e+03</td>\n",
       "      <td>3029.000000</td>\n",
       "      <td>3.029000e+03</td>\n",
       "      <td>2887.000000</td>\n",
       "      <td>3029.000000</td>\n",
       "      <td>3029.000000</td>\n",
       "      <td>3029</td>\n",
       "    </tr>\n",
       "    <tr>\n",
       "      <th>unique</th>\n",
       "      <td>NaN</td>\n",
       "      <td>NaN</td>\n",
       "      <td>NaN</td>\n",
       "      <td>NaN</td>\n",
       "      <td>NaN</td>\n",
       "      <td>NaN</td>\n",
       "      <td>3029</td>\n",
       "    </tr>\n",
       "    <tr>\n",
       "      <th>top</th>\n",
       "      <td>NaN</td>\n",
       "      <td>NaN</td>\n",
       "      <td>NaN</td>\n",
       "      <td>NaN</td>\n",
       "      <td>NaN</td>\n",
       "      <td>NaN</td>\n",
       "      <td>Looking for Comedy in the Muslim World: Albert...</td>\n",
       "    </tr>\n",
       "    <tr>\n",
       "      <th>freq</th>\n",
       "      <td>NaN</td>\n",
       "      <td>NaN</td>\n",
       "      <td>NaN</td>\n",
       "      <td>NaN</td>\n",
       "      <td>NaN</td>\n",
       "      <td>NaN</td>\n",
       "      <td>1</td>\n",
       "    </tr>\n",
       "    <tr>\n",
       "      <th>mean</th>\n",
       "      <td>4.287892e+07</td>\n",
       "      <td>6.469495</td>\n",
       "      <td>9.722144e+04</td>\n",
       "      <td>54.841704</td>\n",
       "      <td>2006.840211</td>\n",
       "      <td>0.909541</td>\n",
       "      <td>NaN</td>\n",
       "    </tr>\n",
       "    <tr>\n",
       "      <th>std</th>\n",
       "      <td>7.039966e+07</td>\n",
       "      <td>1.039046</td>\n",
       "      <td>1.505878e+05</td>\n",
       "      <td>17.955098</td>\n",
       "      <td>7.128715</td>\n",
       "      <td>0.286885</td>\n",
       "      <td>NaN</td>\n",
       "    </tr>\n",
       "    <tr>\n",
       "      <th>min</th>\n",
       "      <td>4.770000e+02</td>\n",
       "      <td>1.600000</td>\n",
       "      <td>3.400000e+01</td>\n",
       "      <td>1.000000</td>\n",
       "      <td>1918.000000</td>\n",
       "      <td>0.000000</td>\n",
       "      <td>NaN</td>\n",
       "    </tr>\n",
       "    <tr>\n",
       "      <th>25%</th>\n",
       "      <td>1.700000e+06</td>\n",
       "      <td>5.900000</td>\n",
       "      <td>1.510300e+04</td>\n",
       "      <td>42.000000</td>\n",
       "      <td>2004.000000</td>\n",
       "      <td>1.000000</td>\n",
       "      <td>NaN</td>\n",
       "    </tr>\n",
       "    <tr>\n",
       "      <th>50%</th>\n",
       "      <td>1.624759e+07</td>\n",
       "      <td>6.600000</td>\n",
       "      <td>4.325400e+04</td>\n",
       "      <td>55.000000</td>\n",
       "      <td>2007.000000</td>\n",
       "      <td>1.000000</td>\n",
       "      <td>NaN</td>\n",
       "    </tr>\n",
       "    <tr>\n",
       "      <th>75%</th>\n",
       "      <td>5.227748e+07</td>\n",
       "      <td>7.200000</td>\n",
       "      <td>1.116700e+05</td>\n",
       "      <td>68.000000</td>\n",
       "      <td>2011.000000</td>\n",
       "      <td>1.000000</td>\n",
       "      <td>NaN</td>\n",
       "    </tr>\n",
       "    <tr>\n",
       "      <th>max</th>\n",
       "      <td>9.366586e+08</td>\n",
       "      <td>9.000000</td>\n",
       "      <td>1.837847e+06</td>\n",
       "      <td>100.000000</td>\n",
       "      <td>2017.000000</td>\n",
       "      <td>1.000000</td>\n",
       "      <td>NaN</td>\n",
       "    </tr>\n",
       "  </tbody>\n",
       "</table>\n",
       "</div>"
      ],
      "text/plain": [
       "          box_office  imdb_rating    imdb_votes    metascore         year  \\\n",
       "count   3.029000e+03  3029.000000  3.029000e+03  2887.000000  3029.000000   \n",
       "unique           NaN          NaN           NaN          NaN          NaN   \n",
       "top              NaN          NaN           NaN          NaN          NaN   \n",
       "freq             NaN          NaN           NaN          NaN          NaN   \n",
       "mean    4.287892e+07     6.469495  9.722144e+04    54.841704  2006.840211   \n",
       "std     7.039966e+07     1.039046  1.505878e+05    17.955098     7.128715   \n",
       "min     4.770000e+02     1.600000  3.400000e+01     1.000000  1918.000000   \n",
       "25%     1.700000e+06     5.900000  1.510300e+04    42.000000  2004.000000   \n",
       "50%     1.624759e+07     6.600000  4.325400e+04    55.000000  2007.000000   \n",
       "75%     5.227748e+07     7.200000  1.116700e+05    68.000000  2011.000000   \n",
       "max     9.366586e+08     9.000000  1.837847e+06   100.000000  2017.000000   \n",
       "\n",
       "        award_dummy                                     title_director  \n",
       "count   3029.000000                                               3029  \n",
       "unique          NaN                                               3029  \n",
       "top             NaN  Looking for Comedy in the Muslim World: Albert...  \n",
       "freq            NaN                                                  1  \n",
       "mean       0.909541                                                NaN  \n",
       "std        0.286885                                                NaN  \n",
       "min        0.000000                                                NaN  \n",
       "25%        1.000000                                                NaN  \n",
       "50%        1.000000                                                NaN  \n",
       "75%        1.000000                                                NaN  \n",
       "max        1.000000                                                NaN  "
      ]
     },
     "execution_count": 97,
     "metadata": {},
     "output_type": "execute_result"
    }
   ],
   "source": [
    "dfNum = df[['box_office', 'imdb_rating', 'imdb_votes', 'metascore', 'year', 'award_dummy']].copy()\n",
    "dfNum = dfNum.astype(float)\n",
    "dfNum['title_director'] = df['title_director']\n",
    "dfNum.describe(include = 'all')"
   ]
  },
  {
   "cell_type": "code",
   "execution_count": 76,
   "metadata": {
    "collapsed": false
   },
   "outputs": [],
   "source": [
    "#process dataframe into network\n",
    "allActors = []\n",
    "biGraph = nx.Graph()\n",
    "actorSet = 0\n",
    "movieSet = 1\n",
    "count = 0\n",
    "\n",
    "for index, row in dfOriginal.iterrows():\n",
    "    movie = row['title_director']\n",
    "    biGraph.add_nodes_from([movie], bipartite=movieSet)\n",
    "    actors = row['actors']\n",
    "    awards = row['awards']\n",
    "    if isinstance(actors, str):\n",
    "        actors = actors.split(', ')\n",
    "        #print(actors)\n",
    "        for actor in actors:\n",
    "            if not any(actor == name for name in allActors): # if actor is not in allActors already:\n",
    "                allActors.append(actor)\n",
    "                biGraph.add_nodes_from([actor], bipartite=actorSet)\n",
    "                biGraph.add_edge(movie, actor, weight=1)\n",
    "            else:\n",
    "                biGraph.add_edge(movie, actor, weight=1)\n",
    "    \n",
    "    count = count + 1\n"
   ]
  },
  {
   "cell_type": "code",
   "execution_count": 77,
   "metadata": {
    "collapsed": false
   },
   "outputs": [
    {
     "name": "stdout",
     "output_type": "stream",
     "text": [
      "15674\n",
      "27352\n"
     ]
    }
   ],
   "source": [
    "movieNodes = set(n for n, d in biGraph.nodes(data=True) if d['bipartite']==movieSet)\n",
    "actorNodes = set(n for n, d in biGraph.nodes(data=True) if d['bipartite']==actorSet)\n",
    "print(len(movieNodes))\n",
    "print(len(actorNodes))"
   ]
  },
  {
   "cell_type": "code",
   "execution_count": 78,
   "metadata": {
    "collapsed": false
   },
   "outputs": [
    {
     "name": "stdout",
     "output_type": "stream",
     "text": [
      "Robert De Niro: 63\n",
      "N/A: 231\n",
      "John Wayne: 61\n",
      "James Stewart: 47\n",
      "Samuel L. Jackson: 48\n",
      "Oliver Hardy: 50\n",
      "Mel Blanc: 87\n",
      "Nicolas Cage: 46\n",
      "Stan Laurel: 46\n",
      "Michael Caine: 54\n",
      "Bruce Willis: 48\n"
     ]
    }
   ],
   "source": [
    "for actor in actorNodes:\n",
    "    if biGraph.degree(actor) >= 45:\n",
    "        print(actor + \": \" + str(biGraph.degree(actor)))"
   ]
  },
  {
   "cell_type": "code",
   "execution_count": 46,
   "metadata": {
    "collapsed": false
   },
   "outputs": [],
   "source": [
    "#len(biGraph['N/A'])"
   ]
  },
  {
   "cell_type": "code",
   "execution_count": 79,
   "metadata": {
    "collapsed": false
   },
   "outputs": [],
   "source": [
    "actorGraphUnweighted = nx.projected_graph(biGraph, actorNodes)\n",
    "actorGraph = bipartite.weighted_projected_graph(biGraph, actorNodes)\n",
    "movieGraph = bipartite.weighted_projected_graph(biGraph, movieNodes)"
   ]
  },
  {
   "cell_type": "code",
   "execution_count": 80,
   "metadata": {
    "collapsed": false
   },
   "outputs": [
    {
     "name": "stdout",
     "output_type": "stream",
     "text": [
      "60\n"
     ]
    }
   ],
   "source": [
    "# higher if the actor has been in movies with several other actors\n",
    "actorDegrees = actorGraph.degree(weight='weight')\n",
    "# higher if the actors in this movie have been in other movies\n",
    "movieDegrees = movieGraph.degree(weight='weight')\n",
    "# number of movies an actor has been in\n",
    "actorMovieDegrees = biGraph.degree(actorNodes) \n",
    "print((actorDegrees['James Franco']))"
   ]
  },
  {
   "cell_type": "code",
   "execution_count": 84,
   "metadata": {
    "collapsed": true
   },
   "outputs": [],
   "source": [
    "movieClusterCoefs = nx.clustering(movieGraph, weight='weight')\n",
    "actorClusterCoefs = nx.clustering(actorGraph, weight='weight')"
   ]
  },
  {
   "cell_type": "code",
   "execution_count": 98,
   "metadata": {
    "collapsed": true
   },
   "outputs": [],
   "source": [
    "dfNum['MovieDegrees'] = 0\n",
    "dfNum['ActorMovieDeg'] = 0\n",
    "dfNum['ActorActorDeg'] = 0\n",
    "dfNum['ActorClusterCoef'] = 0\n",
    "dfNum['MovieClusterCoef'] = 0\n",
    "#df['Betweenness'] = 0\n",
    "#df['Closeness'] = 0\n",
    "#df['Eigenvector'] = 0\n",
    "#df['CrossClique'] = 0"
   ]
  },
  {
   "cell_type": "code",
   "execution_count": 99,
   "metadata": {
    "collapsed": false
   },
   "outputs": [],
   "source": [
    "for index, row in dfNum.iterrows():\n",
    "    movie = row['title_director']\n",
    "    #print(movie)\n",
    "    #print(str(movieDegrees[movie]))\n",
    "    if isinstance(movie, str):\n",
    "        dfNum.set_value(index, 'MovieDegrees', movieDegrees[movie])\n",
    "        dfNum.set_value(index, 'MovieClusterCoef', movieClusterCoefs[movie])\n",
    "        actors = biGraph[movie]\n",
    "        ActorMovieDeg = 0\n",
    "        ActorActorDeg = 0\n",
    "        ActorClusterCoef = 0\n",
    "        #Betweenness = 0\n",
    "        #Closeness = 0\n",
    "        #Eigenvector = 0\n",
    "        #CrossClique = 0\n",
    "        for actor in actors:\n",
    "            ActorMovieDeg += actorMovieDegrees[actor]\n",
    "            ActorActorDeg += actorDegrees[actor]\n",
    "            ActorClusterCoef += actorClusterCoefs[actor]\n",
    "        dfNum.set_value(index, 'ActorMovieDeg', ActorMovieDeg)\n",
    "        dfNum.set_value(index, 'ActorActorDeg', ActorActorDeg)\n",
    "        dfNum.set_value(index, 'ActorClusterCoef', ActorClusterCoef)"
   ]
  },
  {
   "cell_type": "code",
   "execution_count": 100,
   "metadata": {
    "collapsed": false
   },
   "outputs": [
    {
     "data": {
      "text/plain": [
       "count       3029\n",
       "unique      2899\n",
       "top       100000\n",
       "freq          14\n",
       "Name: box_office, dtype: object"
      ]
     },
     "execution_count": 100,
     "metadata": {},
     "output_type": "execute_result"
    }
   ],
   "source": [
    "df['box_office'].describe()"
   ]
  },
  {
   "cell_type": "code",
   "execution_count": null,
   "metadata": {
    "collapsed": false
   },
   "outputs": [],
   "source": []
  },
  {
   "cell_type": "code",
   "execution_count": 148,
   "metadata": {
    "collapsed": false
   },
   "outputs": [
    {
     "data": {
      "text/html": [
       "<div>\n",
       "<table border=\"1\" class=\"dataframe\">\n",
       "  <thead>\n",
       "    <tr style=\"text-align: right;\">\n",
       "      <th></th>\n",
       "      <th>imdb_rating</th>\n",
       "    </tr>\n",
       "  </thead>\n",
       "  <tbody>\n",
       "    <tr>\n",
       "      <th>count</th>\n",
       "      <td>3029.000000</td>\n",
       "    </tr>\n",
       "    <tr>\n",
       "      <th>mean</th>\n",
       "      <td>6.469495</td>\n",
       "    </tr>\n",
       "    <tr>\n",
       "      <th>std</th>\n",
       "      <td>1.039046</td>\n",
       "    </tr>\n",
       "    <tr>\n",
       "      <th>min</th>\n",
       "      <td>1.600000</td>\n",
       "    </tr>\n",
       "    <tr>\n",
       "      <th>25%</th>\n",
       "      <td>5.900000</td>\n",
       "    </tr>\n",
       "    <tr>\n",
       "      <th>50%</th>\n",
       "      <td>6.600000</td>\n",
       "    </tr>\n",
       "    <tr>\n",
       "      <th>75%</th>\n",
       "      <td>7.200000</td>\n",
       "    </tr>\n",
       "    <tr>\n",
       "      <th>max</th>\n",
       "      <td>9.000000</td>\n",
       "    </tr>\n",
       "  </tbody>\n",
       "</table>\n",
       "</div>"
      ],
      "text/plain": [
       "       imdb_rating\n",
       "count  3029.000000\n",
       "mean      6.469495\n",
       "std       1.039046\n",
       "min       1.600000\n",
       "25%       5.900000\n",
       "50%       6.600000\n",
       "75%       7.200000\n",
       "max       9.000000"
      ]
     },
     "execution_count": 148,
     "metadata": {},
     "output_type": "execute_result"
    }
   ],
   "source": [
    "dfControl = dfNum[['imdb_rating']].copy()\n",
    "dfWithActors = dfNum[['imdb_rating', 'MovieDegrees', 'ActorMovieDeg', 'ActorActorDeg', 'MovieClusterCoef', 'ActorClusterCoef']].copy()\n",
    "dfBoxOffice = dfNum[['box_office']].copy()\n",
    "dfAwards = dfNum[['award_dummy']].copy()\n",
    "dfControl.describe()"
   ]
  },
  {
   "cell_type": "code",
   "execution_count": 176,
   "metadata": {
    "collapsed": false
   },
   "outputs": [
    {
     "data": {
      "text/html": [
       "<div>\n",
       "<table border=\"1\" class=\"dataframe\">\n",
       "  <thead>\n",
       "    <tr style=\"text-align: right;\">\n",
       "      <th></th>\n",
       "      <th>award_dummy</th>\n",
       "    </tr>\n",
       "  </thead>\n",
       "  <tbody>\n",
       "    <tr>\n",
       "      <th>count</th>\n",
       "      <td>3029.000000</td>\n",
       "    </tr>\n",
       "    <tr>\n",
       "      <th>mean</th>\n",
       "      <td>0.909541</td>\n",
       "    </tr>\n",
       "    <tr>\n",
       "      <th>std</th>\n",
       "      <td>0.286885</td>\n",
       "    </tr>\n",
       "    <tr>\n",
       "      <th>min</th>\n",
       "      <td>0.000000</td>\n",
       "    </tr>\n",
       "    <tr>\n",
       "      <th>25%</th>\n",
       "      <td>1.000000</td>\n",
       "    </tr>\n",
       "    <tr>\n",
       "      <th>50%</th>\n",
       "      <td>1.000000</td>\n",
       "    </tr>\n",
       "    <tr>\n",
       "      <th>75%</th>\n",
       "      <td>1.000000</td>\n",
       "    </tr>\n",
       "    <tr>\n",
       "      <th>max</th>\n",
       "      <td>1.000000</td>\n",
       "    </tr>\n",
       "  </tbody>\n",
       "</table>\n",
       "</div>"
      ],
      "text/plain": [
       "       award_dummy\n",
       "count  3029.000000\n",
       "mean      0.909541\n",
       "std       0.286885\n",
       "min       0.000000\n",
       "25%       1.000000\n",
       "50%       1.000000\n",
       "75%       1.000000\n",
       "max       1.000000"
      ]
     },
     "execution_count": 176,
     "metadata": {},
     "output_type": "execute_result"
    }
   ],
   "source": [
    "dfAwards.describe()"
   ]
  },
  {
   "cell_type": "code",
   "execution_count": 5,
   "metadata": {
    "collapsed": false
   },
   "outputs": [],
   "source": [
    "#dfControl['imdb_rating'] = dfControl['imdb_rating'].convert_objects(convert_numeric=True)\n",
    "#dfControl['year'] = dfControl['year'].convert_objects(convert_numeric=True)\n",
    "#print(pd.isnull(dfControl).sum())\n",
    "##pd.to_numeric()\n",
    "#dfWithActors['imdb_rating'] = dfWithActors['imdb_rating'].convert_objects(convert_numeric=True)\n",
    "#dfWithActors['year'] = dfWithActors['year'].convert_objects(convert_numeric=True)\n",
    "#print(pd.isnull(dfWithActors).sum())\n"
   ]
  },
  {
   "cell_type": "code",
   "execution_count": 80,
   "metadata": {
    "collapsed": true
   },
   "outputs": [
    {
     "name": "stdout",
     "output_type": "stream",
     "text": [
      "       imdb_rating         year  MovieDegrees  ActorMovieDeg  ActorActorDeg\n",
      "count  3029.000000  3029.000000   3029.000000    3029.000000    3029.000000\n",
      "mean      6.469495  2006.840211     34.169693      38.162100     114.019148\n",
      "std       1.039046     7.128715     26.824524      26.823038      79.670306\n",
      "min       1.600000  1918.000000      0.000000       1.000000       0.000000\n",
      "25%       5.900000  2004.000000     12.000000      16.000000      48.000000\n",
      "50%       6.600000  2007.000000     30.000000      34.000000     102.000000\n",
      "75%       7.200000  2011.000000     52.000000      56.000000     167.000000\n",
      "max       9.000000  2017.000000    230.000000     231.000000     489.000000\n",
      "imdb_rating      0\n",
      "year             0\n",
      "MovieDegrees     0\n",
      "ActorMovieDeg    0\n",
      "ActorActorDeg    0\n",
      "dtype: int64\n",
      "       imdb_rating         year\n",
      "count  3029.000000  3029.000000\n",
      "mean      6.469495  2006.840211\n",
      "std       1.039046     7.128715\n",
      "min       1.600000  1918.000000\n",
      "25%       5.900000  2004.000000\n",
      "50%       6.600000  2007.000000\n",
      "75%       7.200000  2011.000000\n",
      "max       9.000000  2017.000000\n",
      "imdb_rating    0\n",
      "year           0\n",
      "dtype: int64\n",
      "         box_office\n",
      "count  3.028000e+03\n",
      "mean   4.289308e+07\n",
      "std    7.040698e+07\n",
      "min    4.770000e+02\n",
      "25%    1.700000e+06\n",
      "50%    1.624768e+07\n",
      "75%    5.228311e+07\n",
      "max    9.366586e+08\n"
     ]
    }
   ],
   "source": [
    "#print(dfWithActors.describe())\n",
    "#print(pd.isnull(dfWithActors).sum())\n",
    "#print(dfControl.describe())\n",
    "#print(pd.isnull(dfControl).sum())\n",
    "#print(dfBoxOffice.describe())"
   ]
  },
  {
   "cell_type": "code",
   "execution_count": 150,
   "metadata": {
    "collapsed": false
   },
   "outputs": [],
   "source": [
    "controlX = dfControl\n",
    "actorsX = dfWithActors\n",
    "Yactual = dfBoxOffice.as_matrix().tolist()"
   ]
  },
  {
   "cell_type": "code",
   "execution_count": 151,
   "metadata": {
    "collapsed": true
   },
   "outputs": [],
   "source": [
    "# partition into testing and training\n",
    "trainingX, testingX, trainingBO, testingBO = train_test_split(controlX, Yactual, test_size=0.20, random_state=42)\n",
    "trainingX_a, testingX_a, trainingBO_a, testingBO_a = train_test_split(actorsX, Yactual, test_size=0.20, random_state=42)"
   ]
  },
  {
   "cell_type": "code",
   "execution_count": 160,
   "metadata": {
    "collapsed": false
   },
   "outputs": [
    {
     "data": {
      "image/png": "[encoded data removed]",
      "text/plain": [
       "<matplotlib.figure.Figure at 0x1a6c94b2198>"
      ]
     },
     "metadata": {},
     "output_type": "display_data"
    },
    {
     "data": {
      "image/png": "[encoded data removed]",
      "text/plain": [
       "<matplotlib.figure.Figure at 0x1a6db47c128>"
      ]
     },
     "metadata": {},
     "output_type": "display_data"
    }
   ],
   "source": [
    "trainingX\n",
    "plt.scatter(trainingX, trainingBO)\n",
    "plt.show()\n",
    "\n",
    "plt.scatter(trainingX, trainingBO)\n",
    "plt.show()"
   ]
  },
  {
   "cell_type": "code",
   "execution_count": 153,
   "metadata": {
    "collapsed": false
   },
   "outputs": [
    {
     "name": "stdout",
     "output_type": "stream",
     "text": [
      "0.0168213711894\n",
      "0.0132673327433\n",
      "0.0133293718097\n",
      "0.0132673327433\n"
     ]
    }
   ],
   "source": [
    "regr = linear_model.LinearRegression()\n",
    "res = regr.fit(trainingX, trainingBO)\n",
    "print(regr.score(trainingX, trainingBO))\n",
    "print(regr.score(testingX, testingBO))\n",
    "yHat = regr.predict(testingX)\n",
    "#conmat = sk.metrics.confusion_matrix(testingDecade, yHat)\n",
    "#yHat = yHat - (yHat % 10) + 10\n",
    "#print(min(yHat))\n",
    "#print(max(yHat))\n",
    "r2 = r2_score(testingBO, yHat)\n",
    "explainedVar = explained_variance_score(testingBO, yHat)\n",
    "print(explainedVar)\n",
    "print(r2)\n",
    "#testingBO = testingBO.as_matrix()\n",
    "#conmat = sk.metrics.confusion_matrix(testingBO, yHat)\n",
    "\n",
    "#plt.figure()\n",
    "#plot_confusion_matrix(conmat, classes=set(testingBO), normalize=True,\n",
    "#                      title='Confusion Matrix')\n",
    "\n",
    "#plt.show()"
   ]
  },
  {
   "cell_type": "code",
   "execution_count": 154,
   "metadata": {
    "collapsed": false
   },
   "outputs": [
    {
     "name": "stdout",
     "output_type": "stream",
     "text": [
      "0.0414575829801\n",
      "0.0417337411595\n",
      "0.0414575829801\n"
     ]
    }
   ],
   "source": [
    "regr = linear_model.LinearRegression()\n",
    "res = regr.fit(trainingX_a, trainingBO_a)\n",
    "print(regr.score(testingX_a, testingBO_a))\n",
    "yHat = regr.predict(testingX_a)\n",
    "#conmat = sk.metrics.confusion_matrix(testingDecade, yHat)\n",
    "#yHat = yHat - (yHat % 10) + 10\n",
    "#print(min(yHat))\n",
    "#print(max(yHat))\n",
    "\n",
    "r2 = r2_score(testingBO_a, yHat)\n",
    "explainedVar = explained_variance_score(testingBO_a, yHat)\n",
    "print(explainedVar)\n",
    "print(r2)\n",
    "#testingBO = testingBO.as_matrix()\n",
    "#conmat = sk.metrics.confusion_matrix(testingBO, yHat)\n",
    "\n",
    "#plt.figure()\n",
    "#plot_confusion_matrix(conmat, classes=set(testingBO), normalize=True,\n",
    "#                      title='Confusion Matrix')\n",
    "\n",
    "#plt.show()"
   ]
  },
  {
   "cell_type": "code",
   "execution_count": 161,
   "metadata": {
    "collapsed": true
   },
   "outputs": [],
   "source": [
    "controlX = dfControl\n",
    "actorsX = dfWithActors\n",
    "Yactual = dfAwards.as_matrix().tolist()"
   ]
  },
  {
   "cell_type": "code",
   "execution_count": 162,
   "metadata": {
    "collapsed": true
   },
   "outputs": [],
   "source": [
    "# partition into testing and training\n",
    "trainingX, testingX, trainingBO, testingBO = train_test_split(controlX, Yactual, test_size=0.20, random_state=42)\n",
    "trainingX_a, testingX_a, trainingBO_a, testingBO_a = train_test_split(actorsX, Yactual, test_size=0.20, random_state=42)"
   ]
  },
  {
   "cell_type": "code",
   "execution_count": 163,
   "metadata": {
    "collapsed": false
   },
   "outputs": [
    {
     "data": {
      "image/png": "[encoded data removed]",
      "text/plain": [
       "<matplotlib.figure.Figure at 0x1a6db493e10>"
      ]
     },
     "metadata": {},
     "output_type": "display_data"
    },
    {
     "data": {
      "image/png": "[encoded data removed]",
      "text/plain": [
       "<matplotlib.figure.Figure at 0x1a6db49c2b0>"
      ]
     },
     "metadata": {},
     "output_type": "display_data"
    }
   ],
   "source": [
    "plt.scatter(trainingX, trainingBO)\n",
    "plt.show()\n",
    "\n",
    "plt.scatter(trainingX, trainingBO)\n",
    "plt.show()"
   ]
  },
  {
   "cell_type": "code",
   "execution_count": 175,
   "metadata": {
    "collapsed": false
   },
   "outputs": [
    {
     "name": "stderr",
     "output_type": "stream",
     "text": [
      "C:\\ProgramData\\Anaconda3\\lib\\site-packages\\sklearn\\utils\\validation.py:526: DataConversionWarning: A column-vector y was passed when a 1d array was expected. Please change the shape of y to (n_samples, ), for example using ravel().\n",
      "  y = column_or_1d(y, warn=True)\n"
     ]
    },
    {
     "name": "stdout",
     "output_type": "stream",
     "text": [
      "0.910028889806\n",
      "0.905940594059\n",
      "Normalized confusion matrix\n",
      "[[ 0.  1.]\n",
      " [ 0.  1.]]\n"
     ]
    },
    {
     "data": {
      "image/png": "[encoded data removed]",
      "text/plain": [
       "<matplotlib.figure.Figure at 0x1a6ce336588>"
      ]
     },
     "metadata": {},
     "output_type": "display_data"
    }
   ],
   "source": [
    "regr = linear_model.LogisticRegression()\n",
    "res = regr.fit(trainingX, trainingBO)\n",
    "print(regr.score(trainingX, trainingBO))\n",
    "print(regr.score(testingX, testingBO))\n",
    "yHat = regr.predict(testingX)\n",
    "conmat = sk.metrics.confusion_matrix(testingBO, yHat)\n",
    "#yHat = yHat - (yHat % 10) + 10\n",
    "#print(min(yHat))\n",
    "#print(max(yHat))\n",
    "\n",
    "#testingBO = testingBO.as_matrix()\n",
    "#conmat = sk.metrics.confusion_matrix(testingBO, yHat)\n",
    "\n",
    "plt.figure()\n",
    "plot_confusion_matrix(conmat, classes=testingBO, normalize=True,\n",
    "                      title='Confusion Matrix')\n",
    "\n",
    "plt.show()"
   ]
  },
  {
   "cell_type": "code",
   "execution_count": 170,
   "metadata": {
    "collapsed": true
   },
   "outputs": [],
   "source": [
    "def plot_confusion_matrix(cm, classes,\n",
    "                          normalize=False,\n",
    "                          title='Confusion matrix',\n",
    "                          cmap=plt.cm.Blues):\n",
    "    \"\"\"\n",
    "    This function prints and plots the confusion matrix.\n",
    "    Normalization can be applied by setting `normalize=True`.\n",
    "    \"\"\"\n",
    "    if normalize:\n",
    "        cm = cm.astype('float') / cm.sum(axis=1)[:, np.newaxis]\n",
    "        print(\"Normalized confusion matrix\")\n",
    "    else:\n",
    "        print('Confusion matrix, without normalization')\n",
    "\n",
    "    print(cm)\n",
    "\n",
    "    plt.imshow(cm, interpolation='nearest', cmap=cmap)\n",
    "    plt.title(title)\n",
    "    plt.colorbar()\n",
    "    tick_marks = np.arange(len(classes))\n",
    "    plt.xticks(tick_marks, classes, rotation=45)\n",
    "    plt.yticks(tick_marks, classes)\n",
    "\n",
    "    fmt = '.2f' if normalize else 'd'\n",
    "    thresh = cm.max() / 2.\n",
    "    for i, j in itertools.product(range(cm.shape[0]), range(cm.shape[1])):\n",
    "        plt.text(j, i, format(cm[i, j], fmt),\n",
    "                 horizontalalignment=\"center\",\n",
    "                 color=\"white\" if cm[i, j] > thresh else \"black\")\n",
    "\n",
    "    plt.tight_layout()\n",
    "    plt.ylabel('True label')\n",
    "    plt.xlabel('Predicted label')"
   ]
  },
  {
   "cell_type": "code",
   "execution_count": 173,
   "metadata": {
    "collapsed": false
   },
   "outputs": [
    {
     "name": "stderr",
     "output_type": "stream",
     "text": [
      "C:\\ProgramData\\Anaconda3\\lib\\site-packages\\sklearn\\utils\\validation.py:526: DataConversionWarning: A column-vector y was passed when a 1d array was expected. Please change the shape of y to (n_samples, ), for example using ravel().\n",
      "  y = column_or_1d(y, warn=True)\n"
     ]
    },
    {
     "name": "stdout",
     "output_type": "stream",
     "text": [
      "0.90099009901\n",
      "Normalized confusion matrix\n",
      "[[ 0.          1.        ]\n",
      " [ 0.00546448  0.99453552]]\n"
     ]
    },
    {
     "data": {
      "text/plain": [
       "<matplotlib.figure.Figure at 0x1a6db4d57b8>"
      ]
     },
     "metadata": {},
     "output_type": "display_data"
    },
    {
     "data": {
      "image/png": "[encoded data removed]",
      "text/plain": [
       "<matplotlib.figure.Figure at 0x1a6db4de6a0>"
      ]
     },
     "metadata": {},
     "output_type": "display_data"
    }
   ],
   "source": [
    "regr = linear_model.LogisticRegression()\n",
    "res = regr.fit(trainingX_a, trainingBO_a)\n",
    "print(regr.score(testingX_a, testingBO_a))\n",
    "yHat = regr.predict(testingX_a)\n",
    "conmat = sk.metrics.confusion_matrix(testingBO_a, yHat)\n",
    "#yHat = yHat - (yHat % 10) + 10\n",
    "#print(min(yHat))\n",
    "#print(max(yHat))\n",
    "\n",
    "\n",
    "#testingBO = testingBO.as_matrix()\n",
    "#conmat = sk.metrics.confusion_matrix(testingBO, yHat)\n",
    "\n",
    "plt.figure()\n",
    "plot_confusion_matrix(conmat, classes=testingBO_a, normalize=True,\n",
    "                      title='Confusion Matrix')\n",
    "\n",
    "plt.show()"
   ]
  }
 ],
 "metadata": {
  "kernelspec": {
   "display_name": "Python 3",
   "language": "python",
   "name": "python3"
  },
  "language_info": {
   "codemirror_mode": {
    "name": "ipython",
    "version": 3
   },
   "file_extension": ".py",
   "mimetype": "text/x-python",
   "name": "python",
   "nbconvert_exporter": "python",
   "pygments_lexer": "ipython3",
   "version": "3.6.0"
  }
 },
 "nbformat": 4,
 "nbformat_minor": 2
}
