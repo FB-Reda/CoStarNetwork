{
 "cells": [
  {
   "cell_type": "code",
   "execution_count": 1,
   "metadata": {
    "collapsed": false,
    "scrolled": true
   },
   "outputs": [],
   "source": [
    "import os\n",
    "import omdb\n",
    "import csv\n",
    "import pandas as pd\n",
    "import math\n",
    "import networkx as nx\n",
    "import matplotlib.pyplot as plt\n",
    "from networkx.algorithms import bipartite\n",
    "from omdb import Client\n",
    "from pymongo import MongoClient\n",
    "client = Client(apikey=\"67a495d5\")\n",
    "omdb.set_default('apikey', '67a495d5')\n",
    "#omdb.get(title='The Princess Bride')"
   ]
  },
  {
   "cell_type": "code",
   "execution_count": 2,
   "metadata": {
    "collapsed": true
   },
   "outputs": [],
   "source": [
    "client = MongoClient()"
   ]
  },
  {
   "cell_type": "code",
   "execution_count": 3,
   "metadata": {
    "collapsed": true
   },
   "outputs": [],
   "source": [
    "db = client.primer"
   ]
  },
  {
   "cell_type": "code",
   "execution_count": 4,
   "metadata": {
    "collapsed": true
   },
   "outputs": [],
   "source": [
    "coll = db.dataset"
   ]
  },
  {
   "cell_type": "code",
   "execution_count": 5,
   "metadata": {
    "collapsed": true
   },
   "outputs": [],
   "source": [
    "db = client.test"
   ]
  },
  {
   "cell_type": "code",
   "execution_count": 6,
   "metadata": {
    "collapsed": true
   },
   "outputs": [],
   "source": [
    "cursor = db.movie.find()"
   ]
  },
  {
   "cell_type": "code",
   "execution_count": 7,
   "metadata": {
    "collapsed": false,
    "scrolled": true
   },
   "outputs": [
    {
     "data": {
      "text/plain": [
       "81856"
      ]
     },
     "execution_count": 7,
     "metadata": {},
     "output_type": "execute_result"
    }
   ],
   "source": [
    "db.movie.count()"
   ]
  },
  {
   "cell_type": "code",
   "execution_count": 8,
   "metadata": {
    "collapsed": true
   },
   "outputs": [
    {
     "name": "stdout",
     "output_type": "stream",
     "text": [
      "C:/Users/Marielle/Research/ActorNetwork/Data/\n",
      ".DS_Store\n",
      "moviesA.csv\n",
      "moviesA.csv\n",
      "moviesB.csv\n",
      "moviesB.csv\n",
      "moviesC.csv\n",
      "moviesC.csv\n",
      "moviesD.csv\n",
      "moviesD.csv\n",
      "moviesE.csv\n",
      "moviesE.csv\n",
      "moviesF.csv\n",
      "moviesF.csv\n",
      "moviesG.csv\n",
      "moviesG.csv\n",
      "moviesH.csv\n",
      "moviesH.csv\n",
      "moviesI.csv\n",
      "moviesI.csv\n",
      "moviesJK.csv\n",
      "moviesJK.csv\n",
      "[\"Jason's Lyric\"]\n",
      "['Jumanji']\n",
      "moviesL.csv\n",
      "moviesL.csv\n",
      "moviesM.csv\n",
      "moviesM.csv\n",
      "moviesO.csv\n",
      "moviesO.csv\n",
      "['New York Doll', '']\n",
      "moviesP.csv\n",
      "moviesP.csv\n",
      "['Parthale Paravasam']\n",
      "['Pepe']\n",
      "[\"The Preacher's Wife\"]\n",
      "['Punisher: War Zone']\n",
      "['Purple Butterfly']\n",
      "moviesQR.csv\n",
      "moviesQR.csv\n",
      "['Q&A']\n",
      "['Return of the Blind Dead']\n",
      "['Revolver']\n",
      "['Ring of Darkness']\n",
      "moviesS.csv\n",
      "moviesS.csv\n",
      "[\"Smokin' Aces 2: Assassins' Ball\"]\n",
      "['Sudden Fear']\n",
      "moviesT.csv\n",
      "moviesT.csv\n",
      "['Thunderstruck']\n",
      "['To Be or Not to Be']\n",
      "['Toy Story 3']\n",
      "moviesUVW.csv\n",
      "moviesUVW.csv\n",
      "['Vampire Blvd.']\n",
      "['The Villain']\n",
      "moviesXYZ.csv\n",
      "moviesXYZ.csv\n",
      "['Xanadu']\n"
     ]
    }
   ],
   "source": [
    "datapath = 'C:/Users/Marielle/Research/ActorNetwork/Data/'\n",
    "errorcount = 0\n",
    "print(datapath)\n",
    "for file in os.listdir(datapath):\n",
    "    print(file)\n",
    "    if file.endswith(\".csv\"):\n",
    "        print(file)\n",
    "        with open(datapath + file, encoding='latin-1') as f:\n",
    "            reader = csv.reader(f)\n",
    "            for row in reader:\n",
    "                try:\n",
    "                    db.movie.insert_one(omdb.get(title=row))\n",
    "                except:\n",
    "                    print(row)\n",
    "                    errorcount += 1;"
   ]
  },
  {
   "cell_type": "code",
   "execution_count": 8,
   "metadata": {
    "collapsed": true
   },
   "outputs": [],
   "source": [
    "dbbackup = db"
   ]
  },
  {
   "cell_type": "code",
   "execution_count": 9,
   "metadata": {
    "collapsed": false
   },
   "outputs": [
    {
     "data": {
      "text/plain": [
       "<pymongo.command_cursor.CommandCursor at 0x22e52c04320>"
      ]
     },
     "execution_count": 9,
     "metadata": {},
     "output_type": "execute_result"
    }
   ],
   "source": [
    "db.movie.aggregate([\n",
    "    { \"$match\": { \"title\": \"$title\" } },\n",
    "])"
   ]
  },
  {
   "cell_type": "code",
   "execution_count": 10,
   "metadata": {
    "collapsed": true
   },
   "outputs": [],
   "source": [
    "cursor = db.movie.aggregate([\n",
    "    { \"$match\": { \"title\": \"$title\" } },\n",
    "])\n",
    "for document in cursor:\n",
    "    print(document)"
   ]
  },
  {
   "cell_type": "code",
   "execution_count": 11,
   "metadata": {
    "collapsed": false,
    "scrolled": true
   },
   "outputs": [
    {
     "data": {
      "text/plain": [
       "<pymongo.command_cursor.CommandCursor at 0x22e52c1e780>"
      ]
     },
     "execution_count": 11,
     "metadata": {},
     "output_type": "execute_result"
    }
   ],
   "source": [
    "db.movie.aggregate([\n",
    "    { \"$group\": {\n",
    "        \"_id\": { \"title\": \"$title\" },\n",
    "        \"dups\": { \"$push\": \"$_id\" },\n",
    "        \"count\": { \"$sum\": 1 }\n",
    "    }},\n",
    "    { \"$match\": { \"count\": { \"$gt\": 1 } }}\n",
    "])"
   ]
  },
  {
   "cell_type": "code",
   "execution_count": 12,
   "metadata": {
    "collapsed": true
   },
   "outputs": [],
   "source": [
    "cursor = db.events.aggregate([\n",
    "    { \"$group\": {\n",
    "        \"_id\": { \"title\": \"$title\" },\n",
    "        \"dups\": { \"$push\": \"$_id\" },\n",
    "        \"count\": { \"$sum\": 1 }\n",
    "    }},\n",
    "    { \"$match\": { \"count\": { \"$gt\": 1 } }}\n",
    "])"
   ]
  },
  {
   "cell_type": "code",
   "execution_count": 18,
   "metadata": {
    "collapsed": true
   },
   "outputs": [],
   "source": [
    "cursor = db.movie.aggregate(\n",
    "    [\n",
    "        {\"$group\": {\"_id\": \"$title\",\"count\": { \"$sum\": 1 }}}\n",
    "    ]\n",
    ")"
   ]
  },
  {
   "cell_type": "code",
   "execution_count": 19,
   "metadata": {
    "collapsed": false
   },
   "outputs": [
    {
     "data": {
      "text/plain": [
       "64416"
      ]
     },
     "execution_count": 19,
     "metadata": {},
     "output_type": "execute_result"
    }
   ],
   "source": [
    "db.movie.count()"
   ]
  },
  {
   "cell_type": "code",
   "execution_count": 14,
   "metadata": {
    "collapsed": false
   },
   "outputs": [],
   "source": [
    "cursor = db.movie.aggregate(\n",
    "    [\n",
    "        {\"$group\": {\"_id\": \"$title\",\"count\": { \"$sum\": 1 }}}\n",
    "    ]\n",
    ")"
   ]
  },
  {
   "cell_type": "code",
   "execution_count": 15,
   "metadata": {
    "collapsed": true
   },
   "outputs": [],
   "source": [
    "collection = db.movie"
   ]
  },
  {
   "cell_type": "code",
   "execution_count": 16,
   "metadata": {
    "collapsed": true
   },
   "outputs": [],
   "source": [
    "data = pd.DataFrame(list(collection.find()))"
   ]
  },
  {
   "cell_type": "code",
   "execution_count": 25,
   "metadata": {
    "collapsed": true
   },
   "outputs": [],
   "source": [
    "pd.set_option('display.max_columns', None)"
   ]
  },
  {
   "cell_type": "code",
   "execution_count": 26,
   "metadata": {
    "collapsed": false
   },
   "outputs": [
    {
     "data": {
      "text/html": [
       "<div>\n",
       "<table border=\"1\" class=\"dataframe\">\n",
       "  <thead>\n",
       "    <tr style=\"text-align: right;\">\n",
       "      <th></th>\n",
       "      <th>_id</th>\n",
       "      <th>actors</th>\n",
       "      <th>awards</th>\n",
       "      <th>box_office</th>\n",
       "      <th>country</th>\n",
       "      <th>director</th>\n",
       "      <th>dvd</th>\n",
       "      <th>genre</th>\n",
       "      <th>imdb_id</th>\n",
       "      <th>imdb_rating</th>\n",
       "      <th>imdb_votes</th>\n",
       "      <th>language</th>\n",
       "      <th>metascore</th>\n",
       "      <th>plot</th>\n",
       "      <th>poster</th>\n",
       "      <th>production</th>\n",
       "      <th>rated</th>\n",
       "      <th>released</th>\n",
       "      <th>response</th>\n",
       "      <th>runtime</th>\n",
       "      <th>title</th>\n",
       "      <th>total_seasons</th>\n",
       "      <th>type</th>\n",
       "      <th>website</th>\n",
       "      <th>writer</th>\n",
       "      <th>year</th>\n",
       "    </tr>\n",
       "  </thead>\n",
       "  <tbody>\n",
       "    <tr>\n",
       "      <th>0</th>\n",
       "      <td>59e6c5a6355c78209ce540e5</td>\n",
       "      <td>Leonardo DiCaprio, Joseph Gordon-Levitt, Ellen...</td>\n",
       "      <td>Won 4 Oscars. Another 152 wins &amp; 204 nominations.</td>\n",
       "      <td>$292,568,851</td>\n",
       "      <td>USA, UK</td>\n",
       "      <td>Christopher Nolan</td>\n",
       "      <td>07 Dec 2010</td>\n",
       "      <td>Action, Adventure, Sci-Fi</td>\n",
       "      <td>tt1375666</td>\n",
       "      <td>8.8</td>\n",
       "      <td>1,626,815</td>\n",
       "      <td>English, Japanese, French</td>\n",
       "      <td>74</td>\n",
       "      <td>A thief, who steals corporate secrets through ...</td>\n",
       "      <td>https://images-na.ssl-images-amazon.com/images...</td>\n",
       "      <td>Warner Bros. Pictures</td>\n",
       "      <td>PG-13</td>\n",
       "      <td>16 Jul 2010</td>\n",
       "      <td>True</td>\n",
       "      <td>148 min</td>\n",
       "      <td>Inception</td>\n",
       "      <td>NaN</td>\n",
       "      <td>movie</td>\n",
       "      <td>http://inceptionmovie.warnerbros.com/</td>\n",
       "      <td>Christopher Nolan</td>\n",
       "      <td>2010</td>\n",
       "    </tr>\n",
       "    <tr>\n",
       "      <th>1</th>\n",
       "      <td>59e6c671355c78209ce540e6</td>\n",
       "      <td>Asia Argento, Jared Harris, Rupert Everett, Jo...</td>\n",
       "      <td>N/A</td>\n",
       "      <td>N/A</td>\n",
       "      <td>UK, USA</td>\n",
       "      <td>Michael Radford</td>\n",
       "      <td>21 Mar 2000</td>\n",
       "      <td>Crime, Drama, Romance</td>\n",
       "      <td>tt0120594</td>\n",
       "      <td>6.0</td>\n",
       "      <td>3,042</td>\n",
       "      <td>English, Italian, French</td>\n",
       "      <td>49</td>\n",
       "      <td>A young woman attempts to end her criminal car...</td>\n",
       "      <td>https://images-na.ssl-images-amazon.com/images...</td>\n",
       "      <td>Miramax</td>\n",
       "      <td>R</td>\n",
       "      <td>15 Jul 1999</td>\n",
       "      <td>True</td>\n",
       "      <td>92 min</td>\n",
       "      <td>B. Monkey</td>\n",
       "      <td>NaN</td>\n",
       "      <td>movie</td>\n",
       "      <td>N/A</td>\n",
       "      <td>Andrew Davies (novel), Chloe King, Michael Rad...</td>\n",
       "      <td>1998</td>\n",
       "    </tr>\n",
       "    <tr>\n",
       "      <th>2</th>\n",
       "      <td>59e6c671355c78209ce540e7</td>\n",
       "      <td>Ann Bridgewater, Hsiao-Mei Chang, Jing Chen, R...</td>\n",
       "      <td>N/A</td>\n",
       "      <td>N/A</td>\n",
       "      <td>Hong Kong</td>\n",
       "      <td>Clarence Yiu-leung Fok</td>\n",
       "      <td>N/A</td>\n",
       "      <td>Action, Comedy</td>\n",
       "      <td>tt0096867</td>\n",
       "      <td>6.2</td>\n",
       "      <td>44</td>\n",
       "      <td>Cantonese</td>\n",
       "      <td>N/A</td>\n",
       "      <td>N/A</td>\n",
       "      <td>https://images-na.ssl-images-amazon.com/images...</td>\n",
       "      <td>N/A</td>\n",
       "      <td>N/A</td>\n",
       "      <td>N/A</td>\n",
       "      <td>True</td>\n",
       "      <td>98 min</td>\n",
       "      <td>Ba bo qin bing</td>\n",
       "      <td>NaN</td>\n",
       "      <td>movie</td>\n",
       "      <td>N/A</td>\n",
       "      <td>N/A</td>\n",
       "      <td>1989</td>\n",
       "    </tr>\n",
       "    <tr>\n",
       "      <th>3</th>\n",
       "      <td>59e6c671355c78209ce540e8</td>\n",
       "      <td>Pam Grier, Fred Williamson, Melvin Van Peebles...</td>\n",
       "      <td>N/A</td>\n",
       "      <td>N/A</td>\n",
       "      <td>USA, UK</td>\n",
       "      <td>Isaac Julien</td>\n",
       "      <td>28 Jan 2003</td>\n",
       "      <td>Documentary</td>\n",
       "      <td>tt0321353</td>\n",
       "      <td>6.8</td>\n",
       "      <td>573</td>\n",
       "      <td>English</td>\n",
       "      <td>N/A</td>\n",
       "      <td>Filmmaker Isaac Julien uses film clips and int...</td>\n",
       "      <td>https://images-na.ssl-images-amazon.com/images...</td>\n",
       "      <td>IFC</td>\n",
       "      <td>N/A</td>\n",
       "      <td>14 Aug 2002</td>\n",
       "      <td>True</td>\n",
       "      <td>58 min</td>\n",
       "      <td>Baadasssss Cinema</td>\n",
       "      <td>NaN</td>\n",
       "      <td>movie</td>\n",
       "      <td>N/A</td>\n",
       "      <td>N/A</td>\n",
       "      <td>2002</td>\n",
       "    </tr>\n",
       "    <tr>\n",
       "      <th>4</th>\n",
       "      <td>59e6c671355c78209ce540e9</td>\n",
       "      <td>Mario Van Peebles, Joy Bryant, T.K. Carter, Te...</td>\n",
       "      <td>4 wins &amp; 10 nominations.</td>\n",
       "      <td>$300,000</td>\n",
       "      <td>USA</td>\n",
       "      <td>Mario Van Peebles</td>\n",
       "      <td>14 Sep 2004</td>\n",
       "      <td>Biography, Drama</td>\n",
       "      <td>tt0367790</td>\n",
       "      <td>7.4</td>\n",
       "      <td>4,384</td>\n",
       "      <td>English</td>\n",
       "      <td>75</td>\n",
       "      <td>Mario Van Peebles' half-documentary/half-homag...</td>\n",
       "      <td>https://images-na.ssl-images-amazon.com/images...</td>\n",
       "      <td>Sony Pictures Classics</td>\n",
       "      <td>R</td>\n",
       "      <td>17 Mar 2005</td>\n",
       "      <td>True</td>\n",
       "      <td>109 min</td>\n",
       "      <td>Baadasssss!</td>\n",
       "      <td>NaN</td>\n",
       "      <td>movie</td>\n",
       "      <td>http://www.sonyclassics.com/badass/</td>\n",
       "      <td>Melvin Van Peebles (book), Mario Van Peebles (...</td>\n",
       "      <td>2003</td>\n",
       "    </tr>\n",
       "  </tbody>\n",
       "</table>\n",
       "</div>"
      ],
      "text/plain": [
       "                        _id  \\\n",
       "0  59e6c5a6355c78209ce540e5   \n",
       "1  59e6c671355c78209ce540e6   \n",
       "2  59e6c671355c78209ce540e7   \n",
       "3  59e6c671355c78209ce540e8   \n",
       "4  59e6c671355c78209ce540e9   \n",
       "\n",
       "                                              actors  \\\n",
       "0  Leonardo DiCaprio, Joseph Gordon-Levitt, Ellen...   \n",
       "1  Asia Argento, Jared Harris, Rupert Everett, Jo...   \n",
       "2  Ann Bridgewater, Hsiao-Mei Chang, Jing Chen, R...   \n",
       "3  Pam Grier, Fred Williamson, Melvin Van Peebles...   \n",
       "4  Mario Van Peebles, Joy Bryant, T.K. Carter, Te...   \n",
       "\n",
       "                                              awards    box_office    country  \\\n",
       "0  Won 4 Oscars. Another 152 wins & 204 nominations.  $292,568,851    USA, UK   \n",
       "1                                                N/A           N/A    UK, USA   \n",
       "2                                                N/A           N/A  Hong Kong   \n",
       "3                                                N/A           N/A    USA, UK   \n",
       "4                           4 wins & 10 nominations.      $300,000        USA   \n",
       "\n",
       "                 director          dvd                      genre    imdb_id  \\\n",
       "0       Christopher Nolan  07 Dec 2010  Action, Adventure, Sci-Fi  tt1375666   \n",
       "1         Michael Radford  21 Mar 2000      Crime, Drama, Romance  tt0120594   \n",
       "2  Clarence Yiu-leung Fok          N/A             Action, Comedy  tt0096867   \n",
       "3            Isaac Julien  28 Jan 2003                Documentary  tt0321353   \n",
       "4       Mario Van Peebles  14 Sep 2004           Biography, Drama  tt0367790   \n",
       "\n",
       "  imdb_rating imdb_votes                   language metascore  \\\n",
       "0         8.8  1,626,815  English, Japanese, French        74   \n",
       "1         6.0      3,042   English, Italian, French        49   \n",
       "2         6.2         44                  Cantonese       N/A   \n",
       "3         6.8        573                    English       N/A   \n",
       "4         7.4      4,384                    English        75   \n",
       "\n",
       "                                                plot  \\\n",
       "0  A thief, who steals corporate secrets through ...   \n",
       "1  A young woman attempts to end her criminal car...   \n",
       "2                                                N/A   \n",
       "3  Filmmaker Isaac Julien uses film clips and int...   \n",
       "4  Mario Van Peebles' half-documentary/half-homag...   \n",
       "\n",
       "                                              poster              production  \\\n",
       "0  https://images-na.ssl-images-amazon.com/images...   Warner Bros. Pictures   \n",
       "1  https://images-na.ssl-images-amazon.com/images...                 Miramax   \n",
       "2  https://images-na.ssl-images-amazon.com/images...                     N/A   \n",
       "3  https://images-na.ssl-images-amazon.com/images...                     IFC   \n",
       "4  https://images-na.ssl-images-amazon.com/images...  Sony Pictures Classics   \n",
       "\n",
       "   rated     released response  runtime              title total_seasons  \\\n",
       "0  PG-13  16 Jul 2010     True  148 min          Inception           NaN   \n",
       "1      R  15 Jul 1999     True   92 min          B. Monkey           NaN   \n",
       "2    N/A          N/A     True   98 min     Ba bo qin bing           NaN   \n",
       "3    N/A  14 Aug 2002     True   58 min  Baadasssss Cinema           NaN   \n",
       "4      R  17 Mar 2005     True  109 min        Baadasssss!           NaN   \n",
       "\n",
       "    type                                website  \\\n",
       "0  movie  http://inceptionmovie.warnerbros.com/   \n",
       "1  movie                                    N/A   \n",
       "2  movie                                    N/A   \n",
       "3  movie                                    N/A   \n",
       "4  movie    http://www.sonyclassics.com/badass/   \n",
       "\n",
       "                                              writer  year  \n",
       "0                                  Christopher Nolan  2010  \n",
       "1  Andrew Davies (novel), Chloe King, Michael Rad...  1998  \n",
       "2                                                N/A  1989  \n",
       "3                                                N/A  2002  \n",
       "4  Melvin Van Peebles (book), Mario Van Peebles (...  2003  "
      ]
     },
     "execution_count": 26,
     "metadata": {},
     "output_type": "execute_result"
    }
   ],
   "source": [
    "data.head()"
   ]
  },
  {
   "cell_type": "code",
   "execution_count": 17,
   "metadata": {
    "collapsed": false
   },
   "outputs": [
    {
     "data": {
      "text/plain": [
       "_id                  0\n",
       "actors            7194\n",
       "awards            7194\n",
       "box_office        8329\n",
       "country           7194\n",
       "director          7194\n",
       "dvd               8329\n",
       "genre             7194\n",
       "imdb_id           7194\n",
       "imdb_rating       7194\n",
       "imdb_votes        7194\n",
       "language          7194\n",
       "metascore         7194\n",
       "plot              7194\n",
       "poster            7194\n",
       "production        8329\n",
       "rated             7194\n",
       "released          7194\n",
       "response          7194\n",
       "runtime           7194\n",
       "title             7194\n",
       "total_seasons    80721\n",
       "type              7194\n",
       "website           8329\n",
       "writer            7194\n",
       "year              7194\n",
       "dtype: int64"
      ]
     },
     "execution_count": 17,
     "metadata": {},
     "output_type": "execute_result"
    }
   ],
   "source": [
    "pd.isnull(data).sum()"
   ]
  },
  {
   "cell_type": "code",
   "execution_count": 18,
   "metadata": {
    "collapsed": true
   },
   "outputs": [],
   "source": [
    "del data['dvd']\n",
    "del data['total_seasons']\n",
    "del data['poster']\n",
    "#del data['released']\n",
    "del data['response']\n",
    "del data['type']\n",
    "del data['runtime']\n",
    "del data['website']\n",
    "del data['imdb_id']\n",
    "#del data['imdb_votes']\n",
    "del data['_id']"
   ]
  },
  {
   "cell_type": "code",
   "execution_count": 29,
   "metadata": {
    "collapsed": true
   },
   "outputs": [],
   "source": [
    "#del data['language']"
   ]
  },
  {
   "cell_type": "code",
   "execution_count": 19,
   "metadata": {
    "collapsed": false
   },
   "outputs": [
    {
     "data": {
      "text/plain": [
       "actors         74662\n",
       "awards         74662\n",
       "box_office     73527\n",
       "country        74662\n",
       "director       74662\n",
       "genre          74662\n",
       "imdb_rating    74662\n",
       "imdb_votes     74662\n",
       "language       74662\n",
       "metascore      74662\n",
       "plot           74662\n",
       "production     73527\n",
       "rated          74662\n",
       "released       74662\n",
       "title          74662\n",
       "writer         74662\n",
       "year           74662\n",
       "dtype: int64"
      ]
     },
     "execution_count": 19,
     "metadata": {},
     "output_type": "execute_result"
    }
   ],
   "source": [
    "data.count()"
   ]
  },
  {
   "cell_type": "code",
   "execution_count": 20,
   "metadata": {
    "collapsed": false
   },
   "outputs": [
    {
     "data": {
      "text/plain": [
       "actors         24667\n",
       "awards         24667\n",
       "box_office     24304\n",
       "country        24667\n",
       "director       24667\n",
       "genre          24667\n",
       "imdb_rating    24667\n",
       "imdb_votes     24667\n",
       "language       24667\n",
       "metascore      24667\n",
       "plot           24667\n",
       "production     24304\n",
       "rated          24667\n",
       "released       24667\n",
       "title          24667\n",
       "writer         24667\n",
       "year           24667\n",
       "dtype: int64"
      ]
     },
     "execution_count": 20,
     "metadata": {},
     "output_type": "execute_result"
    }
   ],
   "source": [
    "d2 = data.drop_duplicates()\n",
    "d2.count()"
   ]
  },
  {
   "cell_type": "code",
   "execution_count": 21,
   "metadata": {
    "collapsed": false
   },
   "outputs": [
    {
     "name": "stderr",
     "output_type": "stream",
     "text": [
      "C:\\ProgramData\\Anaconda3\\lib\\site-packages\\ipykernel\\__main__.py:2: SettingWithCopyWarning: \n",
      "A value is trying to be set on a copy of a slice from a DataFrame.\n",
      "Try using .loc[row_indexer,col_indexer] = value instead\n",
      "\n",
      "See the caveats in the documentation: http://pandas.pydata.org/pandas-docs/stable/indexing.html#indexing-view-versus-copy\n",
      "  from ipykernel import kernelapp as app\n"
     ]
    },
    {
     "data": {
      "text/plain": [
       "actors            15673\n",
       "awards            15673\n",
       "box_office        15431\n",
       "country           15673\n",
       "director          15673\n",
       "genre             15673\n",
       "imdb_rating       15673\n",
       "imdb_votes        15673\n",
       "language          15673\n",
       "metascore         15673\n",
       "plot              15673\n",
       "production        15431\n",
       "rated             15673\n",
       "released          15673\n",
       "title             15673\n",
       "writer            15673\n",
       "year              15673\n",
       "title_director    15673\n",
       "dtype: int64"
      ]
     },
     "execution_count": 21,
     "metadata": {},
     "output_type": "execute_result"
    }
   ],
   "source": [
    "d3 = data.drop_duplicates(['title', 'director'], keep='first')\n",
    "d3['title_director'] = d3['title'] + \": \" + d3['director']\n",
    "d3.count()"
   ]
  },
  {
   "cell_type": "code",
   "execution_count": 22,
   "metadata": {
    "collapsed": false
   },
   "outputs": [
    {
     "data": {
      "text/plain": [
       "count                                    74662\n",
       "unique                                   15646\n",
       "top       Aashiq Banaya Aapne: Love Takes Over\n",
       "freq                                        21\n",
       "Name: title, dtype: object"
      ]
     },
     "execution_count": 22,
     "metadata": {},
     "output_type": "execute_result"
    }
   ],
   "source": [
    "data['title'].describe()"
   ]
  },
  {
   "cell_type": "code",
   "execution_count": 23,
   "metadata": {
    "collapsed": false
   },
   "outputs": [
    {
     "data": {
      "text/plain": [
       "count         15673\n",
       "unique        15646\n",
       "top       Annabelle\n",
       "freq              2\n",
       "Name: title, dtype: object"
      ]
     },
     "execution_count": 23,
     "metadata": {},
     "output_type": "execute_result"
    }
   ],
   "source": [
    "d3['title'].describe()"
   ]
  },
  {
   "cell_type": "code",
   "execution_count": 24,
   "metadata": {
    "collapsed": true
   },
   "outputs": [],
   "source": [
    "# rename dataframe for future use\n",
    "df = d3"
   ]
  },
  {
   "cell_type": "code",
   "execution_count": null,
   "metadata": {
    "collapsed": true
   },
   "outputs": [],
   "source": [
    "filehandler = open(\"databasedump.pickle\", 'wb') \n",
    "pickle.dump(df, filehandler) "
   ]
  }
 ],
 "metadata": {
  "kernelspec": {
   "display_name": "Python 3",
   "language": "python",
   "name": "python3"
  },
  "language_info": {
   "codemirror_mode": {
    "name": "ipython",
    "version": 3
   },
   "file_extension": ".py",
   "mimetype": "text/x-python",
   "name": "python",
   "nbconvert_exporter": "python",
   "pygments_lexer": "ipython3",
   "version": "3.6.0"
  }
 },
 "nbformat": 4,
 "nbformat_minor": 2
}
