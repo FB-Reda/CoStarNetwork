{
 "cells": [
  {
   "cell_type": "code",
   "execution_count": null,
   "metadata": {},
   "outputs": [],
   "source": [
    "import omdb\n",
    "from omdb import Client\n",
    "client = Client(apikey=\"67a495d5\")\n",
    "omdb.set_default('apikey', '67a495d5')"
   ]
  },
  {
   "cell_type": "code",
   "execution_count": 7,
   "metadata": {
    "collapsed": true
   },
   "outputs": [],
   "source": [
    "from pymongo import MongoClient"
   ]
  },
  {
   "cell_type": "code",
   "execution_count": 8,
   "metadata": {
    "collapsed": true
   },
   "outputs": [],
   "source": [
    "client = MongoClient()"
   ]
  },
  {
   "cell_type": "code",
   "execution_count": 9,
   "metadata": {
    "collapsed": true
   },
   "outputs": [],
   "source": [
    "db = client.primer"
   ]
  },
  {
   "cell_type": "code",
   "execution_count": 10,
   "metadata": {
    "collapsed": true
   },
   "outputs": [],
   "source": [
    "coll = db.dataset"
   ]
  },
  {
   "cell_type": "code",
   "execution_count": 11,
   "metadata": {
    "collapsed": true
   },
   "outputs": [],
   "source": [
    "db = client.test"
   ]
  },
  {
   "cell_type": "code",
   "execution_count": 12,
   "metadata": {
    "collapsed": true
   },
   "outputs": [],
   "source": [
    "cursor = db.movie.find()"
   ]
  },
  {
   "cell_type": "code",
   "execution_count": 13,
   "metadata": {
    "collapsed": true
   },
   "outputs": [],
   "source": [
    "import csv"
   ]
  },
  {
   "cell_type": "code",
   "execution_count": 117,
   "metadata": {
    "collapsed": true
   },
   "outputs": [],
   "source": [
    "with open('/Users/kristenkozmary/Desktop/moviesB.csv', encoding='latin-1') as f:\n",
    "    reader = csv.reader(f)\n",
    "    for row in reader:\n",
    "        db.movie.insert_one(omdb.get(title=row))"
   ]
  },
  {
   "cell_type": "code",
   "execution_count": 15,
   "metadata": {},
   "outputs": [
    {
     "data": {
      "text/plain": [
       "32898"
      ]
     },
     "execution_count": 15,
     "metadata": {},
     "output_type": "execute_result"
    }
   ],
   "source": [
    "db.movie.count()"
   ]
  },
  {
   "cell_type": "code",
   "execution_count": 4,
   "metadata": {
    "collapsed": true
   },
   "outputs": [],
   "source": [
    "import pandas as pd"
   ]
  },
  {
   "cell_type": "code",
   "execution_count": 16,
   "metadata": {},
   "outputs": [],
   "source": [
    "collection = db.movie"
   ]
  },
  {
   "cell_type": "code",
   "execution_count": 17,
   "metadata": {
    "collapsed": true
   },
   "outputs": [],
   "source": [
    "data = pd.DataFrame(list(collection.find()))"
   ]
  },
  {
   "cell_type": "code",
   "execution_count": 255,
   "metadata": {},
   "outputs": [
    {
     "data": {
      "text/html": [
       "<div>\n",
       "<style>\n",
       "    .dataframe thead tr:only-child th {\n",
       "        text-align: right;\n",
       "    }\n",
       "\n",
       "    .dataframe thead th {\n",
       "        text-align: left;\n",
       "    }\n",
       "\n",
       "    .dataframe tbody tr th {\n",
       "        vertical-align: top;\n",
       "    }\n",
       "</style>\n",
       "<table border=\"1\" class=\"dataframe\">\n",
       "  <thead>\n",
       "    <tr style=\"text-align: right;\">\n",
       "      <th></th>\n",
       "      <th>_id</th>\n",
       "      <th>actors</th>\n",
       "      <th>awards</th>\n",
       "      <th>box_office</th>\n",
       "      <th>country</th>\n",
       "      <th>director</th>\n",
       "      <th>dvd</th>\n",
       "      <th>genre</th>\n",
       "      <th>imdb_id</th>\n",
       "      <th>imdb_rating</th>\n",
       "      <th>...</th>\n",
       "      <th>rated</th>\n",
       "      <th>released</th>\n",
       "      <th>response</th>\n",
       "      <th>runtime</th>\n",
       "      <th>title</th>\n",
       "      <th>total_seasons</th>\n",
       "      <th>type</th>\n",
       "      <th>website</th>\n",
       "      <th>writer</th>\n",
       "      <th>year</th>\n",
       "    </tr>\n",
       "  </thead>\n",
       "  <tbody>\n",
       "    <tr>\n",
       "      <th>0</th>\n",
       "      <td>59dd2853d1c97e2166632506</td>\n",
       "      <td>Cary Elwes, Mandy Patinkin, Chris Sarandon, Ch...</td>\n",
       "      <td>Nominated for 1 Oscar. Another 7 wins &amp; 8 nomi...</td>\n",
       "      <td>N/A</td>\n",
       "      <td>USA</td>\n",
       "      <td>Rob Reiner</td>\n",
       "      <td>26 Jan 1999</td>\n",
       "      <td>Adventure, Family, Fantasy</td>\n",
       "      <td>tt0093779</td>\n",
       "      <td>8.1</td>\n",
       "      <td>...</td>\n",
       "      <td>PG</td>\n",
       "      <td>09 Oct 1987</td>\n",
       "      <td>True</td>\n",
       "      <td>98 min</td>\n",
       "      <td>The Princess Bride</td>\n",
       "      <td>NaN</td>\n",
       "      <td>movie</td>\n",
       "      <td>http://www.theprincessbride-themovie.com/</td>\n",
       "      <td>William Goldman (book), William Goldman (scree...</td>\n",
       "      <td>1987</td>\n",
       "    </tr>\n",
       "    <tr>\n",
       "      <th>1</th>\n",
       "      <td>59dd29c642458f2244f63ae3</td>\n",
       "      <td>Leonardo DiCaprio, Joseph Gordon-Levitt, Ellen...</td>\n",
       "      <td>Won 4 Oscars. Another 152 wins &amp; 204 nominations.</td>\n",
       "      <td>$292,568,851</td>\n",
       "      <td>USA, UK</td>\n",
       "      <td>Christopher Nolan</td>\n",
       "      <td>07 Dec 2010</td>\n",
       "      <td>Action, Adventure, Sci-Fi</td>\n",
       "      <td>tt1375666</td>\n",
       "      <td>8.8</td>\n",
       "      <td>...</td>\n",
       "      <td>PG-13</td>\n",
       "      <td>16 Jul 2010</td>\n",
       "      <td>True</td>\n",
       "      <td>148 min</td>\n",
       "      <td>Inception</td>\n",
       "      <td>NaN</td>\n",
       "      <td>movie</td>\n",
       "      <td>http://inceptionmovie.warnerbros.com/</td>\n",
       "      <td>Christopher Nolan</td>\n",
       "      <td>2010</td>\n",
       "    </tr>\n",
       "    <tr>\n",
       "      <th>2</th>\n",
       "      <td>59dd2eca42458f2244f63ae4</td>\n",
       "      <td>Jaeden Lieberher, Jeremy Ray Taylor, Sophia Li...</td>\n",
       "      <td>1 win.</td>\n",
       "      <td>$266,096,375</td>\n",
       "      <td>USA, Canada</td>\n",
       "      <td>Andy Muschietti</td>\n",
       "      <td>N/A</td>\n",
       "      <td>Drama, Horror, Thriller</td>\n",
       "      <td>tt1396484</td>\n",
       "      <td>7.9</td>\n",
       "      <td>...</td>\n",
       "      <td>R</td>\n",
       "      <td>08 Sep 2017</td>\n",
       "      <td>True</td>\n",
       "      <td>135 min</td>\n",
       "      <td>It</td>\n",
       "      <td>NaN</td>\n",
       "      <td>movie</td>\n",
       "      <td>http://www.Itthemovie.com</td>\n",
       "      <td>Chase Palmer (screenplay by), Cary Fukunaga (s...</td>\n",
       "      <td>2017</td>\n",
       "    </tr>\n",
       "    <tr>\n",
       "      <th>3</th>\n",
       "      <td>59dd435f42458f2244f63ae5</td>\n",
       "      <td>Daniel Radcliffe, Rupert Grint, Emma Watson, R...</td>\n",
       "      <td>Nominated for 3 BAFTA Film Awards. Another 11 ...</td>\n",
       "      <td>$261,835,892</td>\n",
       "      <td>UK, USA, Germany</td>\n",
       "      <td>Chris Columbus</td>\n",
       "      <td>11 Apr 2003</td>\n",
       "      <td>Adventure, Family, Fantasy</td>\n",
       "      <td>tt0295297</td>\n",
       "      <td>7.4</td>\n",
       "      <td>...</td>\n",
       "      <td>PG</td>\n",
       "      <td>15 Nov 2002</td>\n",
       "      <td>True</td>\n",
       "      <td>161 min</td>\n",
       "      <td>Harry Potter and the Chamber of Secrets</td>\n",
       "      <td>NaN</td>\n",
       "      <td>movie</td>\n",
       "      <td>http://harrypotter.warnerbros.com/</td>\n",
       "      <td>J.K. Rowling (novel), Steve Kloves (screenplay)</td>\n",
       "      <td>2002</td>\n",
       "    </tr>\n",
       "    <tr>\n",
       "      <th>4</th>\n",
       "      <td>59dd43a642458f2244f63ae6</td>\n",
       "      <td>Eileen Brennan, Tim Curry, Madeline Kahn, Chri...</td>\n",
       "      <td>N/A</td>\n",
       "      <td>N/A</td>\n",
       "      <td>USA</td>\n",
       "      <td>Jonathan Lynn</td>\n",
       "      <td>27 Jun 2000</td>\n",
       "      <td>Comedy, Crime, Mystery</td>\n",
       "      <td>tt0088930</td>\n",
       "      <td>7.3</td>\n",
       "      <td>...</td>\n",
       "      <td>PG</td>\n",
       "      <td>13 Dec 1985</td>\n",
       "      <td>True</td>\n",
       "      <td>94 min</td>\n",
       "      <td>Clue</td>\n",
       "      <td>NaN</td>\n",
       "      <td>movie</td>\n",
       "      <td>N/A</td>\n",
       "      <td>John Landis (story), Jonathan Lynn (story), Jo...</td>\n",
       "      <td>1985</td>\n",
       "    </tr>\n",
       "  </tbody>\n",
       "</table>\n",
       "<p>5 rows × 26 columns</p>\n",
       "</div>"
      ],
      "text/plain": [
       "                        _id  \\\n",
       "0  59dd2853d1c97e2166632506   \n",
       "1  59dd29c642458f2244f63ae3   \n",
       "2  59dd2eca42458f2244f63ae4   \n",
       "3  59dd435f42458f2244f63ae5   \n",
       "4  59dd43a642458f2244f63ae6   \n",
       "\n",
       "                                              actors  \\\n",
       "0  Cary Elwes, Mandy Patinkin, Chris Sarandon, Ch...   \n",
       "1  Leonardo DiCaprio, Joseph Gordon-Levitt, Ellen...   \n",
       "2  Jaeden Lieberher, Jeremy Ray Taylor, Sophia Li...   \n",
       "3  Daniel Radcliffe, Rupert Grint, Emma Watson, R...   \n",
       "4  Eileen Brennan, Tim Curry, Madeline Kahn, Chri...   \n",
       "\n",
       "                                              awards    box_office  \\\n",
       "0  Nominated for 1 Oscar. Another 7 wins & 8 nomi...           N/A   \n",
       "1  Won 4 Oscars. Another 152 wins & 204 nominations.  $292,568,851   \n",
       "2                                             1 win.  $266,096,375   \n",
       "3  Nominated for 3 BAFTA Film Awards. Another 11 ...  $261,835,892   \n",
       "4                                                N/A           N/A   \n",
       "\n",
       "            country           director          dvd  \\\n",
       "0               USA         Rob Reiner  26 Jan 1999   \n",
       "1           USA, UK  Christopher Nolan  07 Dec 2010   \n",
       "2       USA, Canada    Andy Muschietti          N/A   \n",
       "3  UK, USA, Germany     Chris Columbus  11 Apr 2003   \n",
       "4               USA      Jonathan Lynn  27 Jun 2000   \n",
       "\n",
       "                        genre    imdb_id imdb_rating  ...   rated  \\\n",
       "0  Adventure, Family, Fantasy  tt0093779         8.1  ...      PG   \n",
       "1   Action, Adventure, Sci-Fi  tt1375666         8.8  ...   PG-13   \n",
       "2     Drama, Horror, Thriller  tt1396484         7.9  ...       R   \n",
       "3  Adventure, Family, Fantasy  tt0295297         7.4  ...      PG   \n",
       "4      Comedy, Crime, Mystery  tt0088930         7.3  ...      PG   \n",
       "\n",
       "      released response  runtime                                    title  \\\n",
       "0  09 Oct 1987     True   98 min                       The Princess Bride   \n",
       "1  16 Jul 2010     True  148 min                                Inception   \n",
       "2  08 Sep 2017     True  135 min                                       It   \n",
       "3  15 Nov 2002     True  161 min  Harry Potter and the Chamber of Secrets   \n",
       "4  13 Dec 1985     True   94 min                                     Clue   \n",
       "\n",
       "  total_seasons   type                                    website  \\\n",
       "0           NaN  movie  http://www.theprincessbride-themovie.com/   \n",
       "1           NaN  movie      http://inceptionmovie.warnerbros.com/   \n",
       "2           NaN  movie                  http://www.Itthemovie.com   \n",
       "3           NaN  movie         http://harrypotter.warnerbros.com/   \n",
       "4           NaN  movie                                        N/A   \n",
       "\n",
       "                                              writer  year  \n",
       "0  William Goldman (book), William Goldman (scree...  1987  \n",
       "1                                  Christopher Nolan  2010  \n",
       "2  Chase Palmer (screenplay by), Cary Fukunaga (s...  2017  \n",
       "3    J.K. Rowling (novel), Steve Kloves (screenplay)  2002  \n",
       "4  John Landis (story), Jonathan Lynn (story), Jo...  1985  \n",
       "\n",
       "[5 rows x 26 columns]"
      ]
     },
     "execution_count": 255,
     "metadata": {},
     "output_type": "execute_result"
    }
   ],
   "source": [
    "data.head()"
   ]
  },
  {
   "cell_type": "code",
   "execution_count": 256,
   "metadata": {},
   "outputs": [
    {
     "data": {
      "text/plain": [
       "_id                  0\n",
       "actors            6903\n",
       "awards            6903\n",
       "box_office        7283\n",
       "country           6903\n",
       "director          6903\n",
       "dvd               7283\n",
       "genre             6903\n",
       "imdb_id           6903\n",
       "imdb_rating       6903\n",
       "imdb_votes        6903\n",
       "language          6903\n",
       "metascore         6903\n",
       "plot              6903\n",
       "poster            6903\n",
       "production        7283\n",
       "rated             6903\n",
       "released          6903\n",
       "response          6903\n",
       "runtime           6903\n",
       "title             6903\n",
       "total_seasons    32518\n",
       "type              6903\n",
       "website           7283\n",
       "writer            6903\n",
       "year              6903\n",
       "dtype: int64"
      ]
     },
     "execution_count": 256,
     "metadata": {},
     "output_type": "execute_result"
    }
   ],
   "source": [
    "pd.isnull(data).sum()"
   ]
  },
  {
   "cell_type": "code",
   "execution_count": 19,
   "metadata": {
    "collapsed": true
   },
   "outputs": [],
   "source": [
    "del data['dvd']"
   ]
  },
  {
   "cell_type": "code",
   "execution_count": 20,
   "metadata": {
    "collapsed": true
   },
   "outputs": [],
   "source": [
    "del data['poster']"
   ]
  },
  {
   "cell_type": "code",
   "execution_count": 21,
   "metadata": {
    "collapsed": true
   },
   "outputs": [],
   "source": [
    "del data['released']"
   ]
  },
  {
   "cell_type": "code",
   "execution_count": 22,
   "metadata": {
    "collapsed": true
   },
   "outputs": [],
   "source": [
    "del data['response']"
   ]
  },
  {
   "cell_type": "code",
   "execution_count": 23,
   "metadata": {
    "collapsed": true
   },
   "outputs": [],
   "source": [
    "del data['type']"
   ]
  },
  {
   "cell_type": "code",
   "execution_count": 24,
   "metadata": {
    "collapsed": true
   },
   "outputs": [],
   "source": [
    "del data['runtime']"
   ]
  },
  {
   "cell_type": "code",
   "execution_count": 25,
   "metadata": {
    "collapsed": true
   },
   "outputs": [],
   "source": [
    "del data['website']"
   ]
  },
  {
   "cell_type": "code",
   "execution_count": 26,
   "metadata": {
    "collapsed": true
   },
   "outputs": [],
   "source": [
    "del data['imdb_id']"
   ]
  },
  {
   "cell_type": "code",
   "execution_count": 27,
   "metadata": {
    "collapsed": true
   },
   "outputs": [],
   "source": [
    "del data['imdb_votes']"
   ]
  },
  {
   "cell_type": "code",
   "execution_count": null,
   "metadata": {},
   "outputs": [],
   "source": [
    "del data['_id']"
   ]
  },
  {
   "cell_type": "code",
   "execution_count": 29,
   "metadata": {
    "collapsed": true
   },
   "outputs": [],
   "source": [
    "del data['total_seasons']"
   ]
  },
  {
   "cell_type": "code",
   "execution_count": 30,
   "metadata": {
    "collapsed": true
   },
   "outputs": [],
   "source": [
    "del data['language']"
   ]
  },
  {
   "cell_type": "code",
   "execution_count": 31,
   "metadata": {},
   "outputs": [
    {
     "data": {
      "text/plain": [
       "actors         25995\n",
       "awards         25995\n",
       "box_office     25615\n",
       "country        25995\n",
       "director       25995\n",
       "genre          25995\n",
       "imdb_rating    25995\n",
       "metascore      25995\n",
       "plot           25995\n",
       "production     25615\n",
       "rated          25995\n",
       "title          25995\n",
       "writer         25995\n",
       "year           25995\n",
       "dtype: int64"
      ]
     },
     "execution_count": 31,
     "metadata": {},
     "output_type": "execute_result"
    }
   ],
   "source": [
    "data.count()"
   ]
  },
  {
   "cell_type": "code",
   "execution_count": 33,
   "metadata": {},
   "outputs": [],
   "source": [
    "df = data.drop_duplicates(['title'], keep='first')"
   ]
  },
  {
   "cell_type": "code",
   "execution_count": 35,
   "metadata": {},
   "outputs": [
    {
     "data": {
      "text/plain": [
       "actors         13908\n",
       "awards         13908\n",
       "box_office     13692\n",
       "country        13908\n",
       "director       13908\n",
       "genre          13908\n",
       "imdb_rating    13908\n",
       "metascore      13908\n",
       "plot           13908\n",
       "production     13692\n",
       "rated          13908\n",
       "title          13908\n",
       "writer         13908\n",
       "year           13908\n",
       "dtype: int64"
      ]
     },
     "execution_count": 35,
     "metadata": {},
     "output_type": "execute_result"
    }
   ],
   "source": [
    "df.count()"
   ]
  },
  {
   "cell_type": "code",
   "execution_count": 36,
   "metadata": {
    "collapsed": true
   },
   "outputs": [],
   "source": [
    "cols = df.columns.tolist()"
   ]
  },
  {
   "cell_type": "code",
   "execution_count": 38,
   "metadata": {
    "collapsed": true
   },
   "outputs": [],
   "source": [
    "df = df[['title','actors','writer','plot','awards','box_office','country','director','genre','production','rated','year','imdb_rating','metascore']]"
   ]
  },
  {
   "cell_type": "code",
   "execution_count": 41,
   "metadata": {},
   "outputs": [
    {
     "data": {
      "text/html": [
       "<div>\n",
       "<style>\n",
       "    .dataframe thead tr:only-child th {\n",
       "        text-align: right;\n",
       "    }\n",
       "\n",
       "    .dataframe thead th {\n",
       "        text-align: left;\n",
       "    }\n",
       "\n",
       "    .dataframe tbody tr th {\n",
       "        vertical-align: top;\n",
       "    }\n",
       "</style>\n",
       "<table border=\"1\" class=\"dataframe\">\n",
       "  <thead>\n",
       "    <tr style=\"text-align: right;\">\n",
       "      <th></th>\n",
       "      <th>title</th>\n",
       "      <th>actors</th>\n",
       "      <th>writer</th>\n",
       "      <th>plot</th>\n",
       "      <th>awards</th>\n",
       "      <th>box_office</th>\n",
       "      <th>country</th>\n",
       "      <th>director</th>\n",
       "      <th>genre</th>\n",
       "      <th>production</th>\n",
       "      <th>rated</th>\n",
       "      <th>year</th>\n",
       "      <th>imdb_rating</th>\n",
       "      <th>metascore</th>\n",
       "    </tr>\n",
       "  </thead>\n",
       "  <tbody>\n",
       "    <tr>\n",
       "      <th>count</th>\n",
       "      <td>13908</td>\n",
       "      <td>13908</td>\n",
       "      <td>13908</td>\n",
       "      <td>13908</td>\n",
       "      <td>13908</td>\n",
       "      <td>13692</td>\n",
       "      <td>13908</td>\n",
       "      <td>13908</td>\n",
       "      <td>13908</td>\n",
       "      <td>13692</td>\n",
       "      <td>13908</td>\n",
       "      <td>13908</td>\n",
       "      <td>13908</td>\n",
       "      <td>13908</td>\n",
       "    </tr>\n",
       "    <tr>\n",
       "      <th>unique</th>\n",
       "      <td>13908</td>\n",
       "      <td>13584</td>\n",
       "      <td>11910</td>\n",
       "      <td>13326</td>\n",
       "      <td>2162</td>\n",
       "      <td>2595</td>\n",
       "      <td>1063</td>\n",
       "      <td>6437</td>\n",
       "      <td>905</td>\n",
       "      <td>1919</td>\n",
       "      <td>23</td>\n",
       "      <td>228</td>\n",
       "      <td>82</td>\n",
       "      <td>98</td>\n",
       "    </tr>\n",
       "    <tr>\n",
       "      <th>top</th>\n",
       "      <td>Timing</td>\n",
       "      <td>N/A</td>\n",
       "      <td>N/A</td>\n",
       "      <td>N/A</td>\n",
       "      <td>N/A</td>\n",
       "      <td>N/A</td>\n",
       "      <td>USA</td>\n",
       "      <td>N/A</td>\n",
       "      <td>Drama</td>\n",
       "      <td>N/A</td>\n",
       "      <td>R</td>\n",
       "      <td>2004</td>\n",
       "      <td>7.2</td>\n",
       "      <td>N/A</td>\n",
       "    </tr>\n",
       "    <tr>\n",
       "      <th>freq</th>\n",
       "      <td>1</td>\n",
       "      <td>196</td>\n",
       "      <td>751</td>\n",
       "      <td>579</td>\n",
       "      <td>4903</td>\n",
       "      <td>10989</td>\n",
       "      <td>7527</td>\n",
       "      <td>304</td>\n",
       "      <td>1031</td>\n",
       "      <td>2788</td>\n",
       "      <td>4079</td>\n",
       "      <td>477</td>\n",
       "      <td>610</td>\n",
       "      <td>9134</td>\n",
       "    </tr>\n",
       "  </tbody>\n",
       "</table>\n",
       "</div>"
      ],
      "text/plain": [
       "         title actors writer   plot awards box_office country director  genre  \\\n",
       "count    13908  13908  13908  13908  13908      13692   13908    13908  13908   \n",
       "unique   13908  13584  11910  13326   2162       2595    1063     6437    905   \n",
       "top     Timing    N/A    N/A    N/A    N/A        N/A     USA      N/A  Drama   \n",
       "freq         1    196    751    579   4903      10989    7527      304   1031   \n",
       "\n",
       "       production  rated   year imdb_rating metascore  \n",
       "count       13692  13908  13908       13908     13908  \n",
       "unique       1919     23    228          82        98  \n",
       "top           N/A      R   2004         7.2       N/A  \n",
       "freq         2788   4079    477         610      9134  "
      ]
     },
     "execution_count": 41,
     "metadata": {},
     "output_type": "execute_result"
    }
   ],
   "source": [
    "df.describe()"
   ]
  },
  {
   "cell_type": "code",
   "execution_count": 42,
   "metadata": {
    "collapsed": true
   },
   "outputs": [],
   "source": [
    "import numpy as np\n",
    "import matplotlib"
   ]
  },
  {
   "cell_type": "code",
   "execution_count": 43,
   "metadata": {
    "collapsed": true
   },
   "outputs": [],
   "source": [
    "from scipy import stats, integrate"
   ]
  },
  {
   "cell_type": "code",
   "execution_count": 44,
   "metadata": {
    "collapsed": true
   },
   "outputs": [],
   "source": [
    "import matplotlib.pyplot as plt\n",
    "%matplotlib inline\n",
    "import plotly"
   ]
  },
  {
   "cell_type": "code",
   "execution_count": 45,
   "metadata": {
    "collapsed": true
   },
   "outputs": [],
   "source": [
    "import seaborn as sns\n",
    "sns.set(color_codes=True)"
   ]
  },
  {
   "cell_type": "code",
   "execution_count": 46,
   "metadata": {
    "collapsed": true
   },
   "outputs": [],
   "source": [
    "plot_kwds = {'alpha' : 0.25, 's' : 80, 'linewidths':0}"
   ]
  },
  {
   "cell_type": "code",
   "execution_count": 47,
   "metadata": {
    "collapsed": true
   },
   "outputs": [],
   "source": [
    "import sklearn.cluster as cluster\n",
    "import time"
   ]
  },
  {
   "cell_type": "code",
   "execution_count": 49,
   "metadata": {},
   "outputs": [
    {
     "data": {
      "text/plain": [
       "<matplotlib.axes._subplots.AxesSubplot at 0x1146ae8d0>"
      ]
     },
     "execution_count": 49,
     "metadata": {},
     "output_type": "execute_result"
    },
    {
     "data": {
      "image/png": "[encoded data removed]",
      "text/plain": [
       "<matplotlib.figure.Figure at 0x1146abcf8>"
      ]
     },
     "metadata": {},
     "output_type": "display_data"
    }
   ],
   "source": [
    "df['rated'].value_counts().plot(kind='bar')"
   ]
  },
  {
   "cell_type": "code",
   "execution_count": null,
   "metadata": {},
   "outputs": [],
   "source": [
    "df['actors'].value_counts().plot(kind='bar')"
   ]
  },
  {
   "cell_type": "code",
   "execution_count": null,
   "metadata": {
    "collapsed": true
   },
   "outputs": [],
   "source": []
  }
 ],
 "metadata": {
  "kernelspec": {
   "display_name": "Python fox",
   "language": "python",
   "name": "fox"
  }
 },
 "nbformat": 4,
 "nbformat_minor": 2
}
