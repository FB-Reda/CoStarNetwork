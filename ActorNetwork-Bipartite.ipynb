{
 "cells": [
  {
   "cell_type": "code",
   "execution_count": 1,
   "metadata": {
    "collapsed": false,
    "scrolled": true
   },
   "outputs": [
    {
     "name": "stdout",
     "output_type": "stream",
     "text": [
      "0.19.2\n",
      "2.0\n"
     ]
    }
   ],
   "source": [
    "import os\n",
    "import omdb\n",
    "import csv\n",
    "import pickle\n",
    "import collections\n",
    "import pandas as pd\n",
    "print(pd.__version__)\n",
    "import numpy as np\n",
    "import networkx as nx\n",
    "import matplotlib.pyplot as plt\n",
    "from networkx.algorithms import bipartite\n",
    "from networkx.algorithms import clique\n",
    "from networkx.algorithms import cluster\n",
    "from networkx.algorithms import link_prediction\n",
    "from networkx.algorithms import shortest_paths\n",
    "from scipy.optimize import curve_fit\n",
    "print(nx.__version__)"
   ]
  },
  {
   "cell_type": "code",
   "execution_count": 2,
   "metadata": {
    "collapsed": false
   },
   "outputs": [],
   "source": [
    "df = pickle.load(open(\"databasedump.pickle\", 'rb'))\n"
   ]
  },
  {
   "cell_type": "code",
   "execution_count": 3,
   "metadata": {
    "collapsed": false
   },
   "outputs": [
    {
     "data": {
      "text/html": [
       "<div>\n",
       "<table border=\"1\" class=\"dataframe\">\n",
       "  <thead>\n",
       "    <tr style=\"text-align: right;\">\n",
       "      <th></th>\n",
       "      <th>actors</th>\n",
       "      <th>awards</th>\n",
       "      <th>box_office</th>\n",
       "      <th>country</th>\n",
       "      <th>director</th>\n",
       "      <th>genre</th>\n",
       "      <th>imdb_rating</th>\n",
       "      <th>imdb_votes</th>\n",
       "      <th>language</th>\n",
       "      <th>metascore</th>\n",
       "      <th>plot</th>\n",
       "      <th>production</th>\n",
       "      <th>rated</th>\n",
       "      <th>released</th>\n",
       "      <th>title</th>\n",
       "      <th>writer</th>\n",
       "      <th>year</th>\n",
       "      <th>title_director</th>\n",
       "    </tr>\n",
       "  </thead>\n",
       "  <tbody>\n",
       "    <tr>\n",
       "      <th>count</th>\n",
       "      <td>15673</td>\n",
       "      <td>15673</td>\n",
       "      <td>15431</td>\n",
       "      <td>15673</td>\n",
       "      <td>15673</td>\n",
       "      <td>15673</td>\n",
       "      <td>15673</td>\n",
       "      <td>15673</td>\n",
       "      <td>15673</td>\n",
       "      <td>15673</td>\n",
       "      <td>15673</td>\n",
       "      <td>15431</td>\n",
       "      <td>15673</td>\n",
       "      <td>15673</td>\n",
       "      <td>15673</td>\n",
       "      <td>15673</td>\n",
       "      <td>15673</td>\n",
       "      <td>15673</td>\n",
       "    </tr>\n",
       "    <tr>\n",
       "      <th>unique</th>\n",
       "      <td>15267</td>\n",
       "      <td>2350</td>\n",
       "      <td>2900</td>\n",
       "      <td>1160</td>\n",
       "      <td>7035</td>\n",
       "      <td>949</td>\n",
       "      <td>82</td>\n",
       "      <td>10499</td>\n",
       "      <td>1338</td>\n",
       "      <td>98</td>\n",
       "      <td>14990</td>\n",
       "      <td>2089</td>\n",
       "      <td>23</td>\n",
       "      <td>8363</td>\n",
       "      <td>15646</td>\n",
       "      <td>13314</td>\n",
       "      <td>236</td>\n",
       "      <td>15673</td>\n",
       "    </tr>\n",
       "    <tr>\n",
       "      <th>top</th>\n",
       "      <td>N/A</td>\n",
       "      <td>N/A</td>\n",
       "      <td>N/A</td>\n",
       "      <td>USA</td>\n",
       "      <td>N/A</td>\n",
       "      <td>Drama</td>\n",
       "      <td>7.2</td>\n",
       "      <td>N/A</td>\n",
       "      <td>English</td>\n",
       "      <td>N/A</td>\n",
       "      <td>N/A</td>\n",
       "      <td>N/A</td>\n",
       "      <td>R</td>\n",
       "      <td>N/A</td>\n",
       "      <td>McDull: Me &amp; My Mum</td>\n",
       "      <td>N/A</td>\n",
       "      <td>2004</td>\n",
       "      <td>Life: Daniel Espinosa</td>\n",
       "    </tr>\n",
       "    <tr>\n",
       "      <th>freq</th>\n",
       "      <td>231</td>\n",
       "      <td>5578</td>\n",
       "      <td>12402</td>\n",
       "      <td>8447</td>\n",
       "      <td>343</td>\n",
       "      <td>1153</td>\n",
       "      <td>683</td>\n",
       "      <td>350</td>\n",
       "      <td>9330</td>\n",
       "      <td>10322</td>\n",
       "      <td>667</td>\n",
       "      <td>3198</td>\n",
       "      <td>4584</td>\n",
       "      <td>653</td>\n",
       "      <td>2</td>\n",
       "      <td>870</td>\n",
       "      <td>538</td>\n",
       "      <td>1</td>\n",
       "    </tr>\n",
       "  </tbody>\n",
       "</table>\n",
       "</div>"
      ],
      "text/plain": [
       "       actors awards box_office country director  genre imdb_rating  \\\n",
       "count   15673  15673      15431   15673    15673  15673       15673   \n",
       "unique  15267   2350       2900    1160     7035    949          82   \n",
       "top       N/A    N/A        N/A     USA      N/A  Drama         7.2   \n",
       "freq      231   5578      12402    8447      343   1153         683   \n",
       "\n",
       "       imdb_votes language metascore   plot production  rated released  \\\n",
       "count       15673    15673     15673  15673      15431  15673    15673   \n",
       "unique      10499     1338        98  14990       2089     23     8363   \n",
       "top           N/A  English       N/A    N/A        N/A      R      N/A   \n",
       "freq          350     9330     10322    667       3198   4584      653   \n",
       "\n",
       "                      title writer   year         title_director  \n",
       "count                 15673  15673  15673                  15673  \n",
       "unique                15646  13314    236                  15673  \n",
       "top     McDull: Me & My Mum    N/A   2004  Life: Daniel Espinosa  \n",
       "freq                      2    870    538                      1  "
      ]
     },
     "execution_count": 3,
     "metadata": {},
     "output_type": "execute_result"
    }
   ],
   "source": [
    "df.describe()"
   ]
  },
  {
   "cell_type": "code",
   "execution_count": 4,
   "metadata": {
    "collapsed": false
   },
   "outputs": [],
   "source": [
    "#process dataframe into network\n",
    "allActors = []\n",
    "biGraph = nx.Graph()\n",
    "actorSet = 0\n",
    "movieSet = 1\n",
    "count = 0\n",
    "\n",
    "for index, row in df.iterrows():\n",
    "    movie = row['title_director']\n",
    "    biGraph.add_nodes_from([movie], bipartite=movieSet)\n",
    "    actors = row['actors']\n",
    "    if isinstance(actors, str):\n",
    "        actors = actors.split(', ')\n",
    "        #print(actors)\n",
    "        for actor in actors:\n",
    "            if not any(actor == name for name in allActors): # if actor is not in allActors already:\n",
    "                allActors.append(actor)\n",
    "                biGraph.add_nodes_from([actor], bipartite=actorSet)\n",
    "                biGraph.add_edge(movie, actor, weight=1)\n",
    "            else:\n",
    "                biGraph.add_edge(movie, actor, weight=1)\n",
    "    count = count + 1\n"
   ]
  },
  {
   "cell_type": "code",
   "execution_count": 6,
   "metadata": {
    "collapsed": false
   },
   "outputs": [
    {
     "name": "stdout",
     "output_type": "stream",
     "text": [
      "too many nodes to plot in a reasonable amount of time\n"
     ]
    }
   ],
   "source": [
    "if(len(biGraph.nodes) > 50):\n",
    "    print('too many nodes to plot in a reasonable amount of time')\n",
    "else:\n",
    "    nx.draw(biGraph)\n",
    "    plt.show()"
   ]
  },
  {
   "cell_type": "code",
   "execution_count": 7,
   "metadata": {
    "collapsed": false
   },
   "outputs": [
    {
     "name": "stdout",
     "output_type": "stream",
     "text": [
      "15674\n",
      "27352\n"
     ]
    }
   ],
   "source": [
    "movieNodes = set(n for n, d in biGraph.nodes(data=True) if d['bipartite']==movieSet)\n",
    "actorNodes = set(n for n, d in biGraph.nodes(data=True) if d['bipartite']==actorSet)\n",
    "print(len(movieNodes))\n",
    "print(len(actorNodes))"
   ]
  },
  {
   "cell_type": "code",
   "execution_count": 8,
   "metadata": {
    "collapsed": false
   },
   "outputs": [
    {
     "data": {
      "text/plain": [
       "21"
      ]
     },
     "execution_count": 8,
     "metadata": {},
     "output_type": "execute_result"
    }
   ],
   "source": [
    "len(biGraph['Mickey Rooney'])"
   ]
  },
  {
   "cell_type": "code",
   "execution_count": 9,
   "metadata": {
    "collapsed": false
   },
   "outputs": [
    {
     "data": {
      "text/plain": [
       "1"
      ]
     },
     "execution_count": 9,
     "metadata": {},
     "output_type": "execute_result"
    }
   ],
   "source": [
    "biGraph['Inception: Christopher Nolan']['Leonardo DiCaprio']['weight']"
   ]
  },
  {
   "cell_type": "code",
   "execution_count": 10,
   "metadata": {
    "collapsed": false
   },
   "outputs": [
    {
     "data": {
      "image/png": "[encoded data removed]",
      "text/plain": [
       "<matplotlib.figure.Figure at 0x25d09f01e80>"
      ]
     },
     "metadata": {},
     "output_type": "display_data"
    }
   ],
   "source": [
    "movieDegrees = sorted([d for n, d in biGraph.degree(movieNodes)])\n",
    "#print(actorDegrees)\n",
    "degreeCount = collections.Counter(movieDegrees)\n",
    "degree, count = zip(*degreeCount.items())\n",
    "fig, ax = plt.subplots()\n",
    "bars = plt.bar(degree, count, width=0.80, color='b')\n",
    "\n",
    "for bar in bars:\n",
    "    height = bar.get_height()\n",
    "    ax.text(bar.get_x() + bar.get_width()/2., 1.05*height,\n",
    "                '%d' % int(height),\n",
    "                ha='center', va='bottom')\n",
    "\n",
    "plt.title(\"Degree Histogram\")\n",
    "plt.ylabel(\"Count\")\n",
    "plt.yscale(\"log\")\n",
    "plt.xlabel(\"Degree\")\n",
    "start, end = ax.get_xlim()\n",
    "ax.xaxis.set_ticks(np.arange(0, end, 1))\n",
    "\n",
    "plt.show()"
   ]
  },
  {
   "cell_type": "code",
   "execution_count": 11,
   "metadata": {
    "collapsed": false
   },
   "outputs": [
    {
     "name": "stdout",
     "output_type": "stream",
     "text": [
      "Michael Caine: 54\n",
      "John Wayne: 61\n",
      "Nicolas Cage: 46\n",
      "Bruce Willis: 48\n",
      "Stan Laurel: 46\n",
      "Robert De Niro: 63\n",
      "James Stewart: 47\n",
      "N/A: 231\n",
      "Samuel L. Jackson: 48\n",
      "Mel Blanc: 87\n",
      "Oliver Hardy: 50\n"
     ]
    }
   ],
   "source": [
    "for actor in actorNodes:\n",
    "    if biGraph.degree(actor) >= 45:\n",
    "        print(actor + \": \" + str(biGraph.degree(actor)))"
   ]
  },
  {
   "cell_type": "code",
   "execution_count": 12,
   "metadata": {
    "collapsed": false
   },
   "outputs": [
    {
     "data": {
      "text/plain": [
       "231"
      ]
     },
     "execution_count": 12,
     "metadata": {},
     "output_type": "execute_result"
    }
   ],
   "source": [
    "len(biGraph['N/A'])"
   ]
  },
  {
   "cell_type": "code",
   "execution_count": 13,
   "metadata": {
    "collapsed": false
   },
   "outputs": [
    {
     "data": {
      "image/png": "[encoded data removed]",
      "text/plain": [
       "<matplotlib.figure.Figure at 0x25d0a6f5518>"
      ]
     },
     "metadata": {},
     "output_type": "display_data"
    }
   ],
   "source": [
    "actorMovieDegrees = sorted([d for n, d in biGraph.degree(actorNodes)])\n",
    "actorMovieDegrees = [i for i in actorMovieDegrees if i != len(biGraph['N/A'])]\n",
    "#print(actorMovieDegrees)\n",
    "degreeCount = collections.Counter(actorMovieDegrees)\n",
    "degree, count = zip(*degreeCount.items())\n",
    "fig, ax = plt.subplots()\n",
    "bars = plt.bar(degree, count, width=0.80, color='b')\n",
    "\n",
    "plt.title(\"Degree Histogram\")\n",
    "plt.ylabel(\"Count\")\n",
    "plt.yscale(\"log\")\n",
    "plt.xlabel(\"Degree\")\n",
    "start, end = ax.get_xlim()\n",
    "ax.xaxis.set_ticks(np.arange(0, end, 5))\n",
    "\n",
    "plt.show()"
   ]
  },
  {
   "cell_type": "code",
   "execution_count": 32,
   "metadata": {
    "collapsed": false
   },
   "outputs": [],
   "source": [
    "actorGraphUnweighted = nx.projected_graph(biGraph, actorNodes)\n",
    "actorGraph = bipartite.weighted_projected_graph(biGraph, actorNodes)"
   ]
  },
  {
   "cell_type": "code",
   "execution_count": 15,
   "metadata": {
    "collapsed": false
   },
   "outputs": [
    {
     "name": "stdout",
     "output_type": "stream",
     "text": [
      "3\n",
      "53\n"
     ]
    }
   ],
   "source": [
    "print(actorGraph['James Franco']['Seth Rogen']['weight'])\n",
    "print(len(actorGraph['James Franco']))"
   ]
  },
  {
   "cell_type": "code",
   "execution_count": 16,
   "metadata": {
    "collapsed": false
   },
   "outputs": [
    {
     "data": {
      "image/png": "[encoded data removed]",
      "text/plain": [
       "<matplotlib.figure.Figure at 0x25d0a7296a0>"
      ]
     },
     "metadata": {},
     "output_type": "display_data"
    }
   ],
   "source": [
    "actorDegrees = sorted([d for n, d in actorGraph.degree(weight='weight')])\n",
    "#print(actorDegrees)\n",
    "degreeCount = collections.Counter(actorDegrees)\n",
    "degree, count = zip(*degreeCount.items())\n",
    "\n",
    "fig, ax = plt.subplots()\n",
    "plt.bar(degree, count, width=0.80, color='b')\n",
    "plt.plot(degree, count, 'ko')\n",
    "\n",
    "plt.title(\"Degree Histogram\")\n",
    "plt.ylabel(\"Count\")\n",
    "plt.yscale(\"log\")\n",
    "plt.xlabel(\"Degree\")\n",
    "start, end = ax.get_xlim()\n",
    "ax.xaxis.set_ticks(np.arange(0, end, 25))\n",
    "\n",
    "plt.show()"
   ]
  },
  {
   "cell_type": "code",
   "execution_count": 18,
   "metadata": {
    "collapsed": false
   },
   "outputs": [
    {
     "name": "stderr",
     "output_type": "stream",
     "text": [
      "C:\\ProgramData\\Anaconda3\\lib\\site-packages\\ipykernel\\__main__.py:2: RuntimeWarning: divide by zero encountered in power\n",
      "  from ipykernel import kernelapp as app\n"
     ]
    },
    {
     "data": {
      "image/png": "[encoded data removed]",
      "text/plain": [
       "<matplotlib.figure.Figure at 0x25d108b3f98>"
      ]
     },
     "metadata": {},
     "output_type": "display_data"
    }
   ],
   "source": [
    "def func(x, a, b, c):\n",
    "    return a*(x**-b) + c\n",
    "    #return a*np.exp(-b*x)-c\n",
    "\n",
    "#popt, pcov = curve_fit(func, degree, count, p0=(50000, 2, 1e-8), maxfev=50000)\n",
    "\n",
    "xx = np.linspace(min(degree), max(degree))\n",
    "yy = func(xx, 100000, 2, 0)\n",
    "yyy = func(xx, 2000, 2, 0)\n",
    "#yy = func(xx, *popt)\n",
    "\n",
    "plt.plot(xx, yy)\n",
    "plt.plot(xx, yyy)\n",
    "plt.plot(degree, count, 'ko')\n",
    "plt.yscale('log')\n",
    "plt.ylabel(\"Count\")\n",
    "plt.xlabel(\"Degree\")\n",
    "\n",
    "plt.ylim([0.5, 10e4])\n",
    "plt.show()"
   ]
  },
  {
   "cell_type": "code",
   "execution_count": 30,
   "metadata": {
    "collapsed": false
   },
   "outputs": [
    {
     "data": {
      "image/png": "[encoded data removed]",
      "text/plain": [
       "<matplotlib.figure.Figure at 0x25d0f370630>"
      ]
     },
     "metadata": {},
     "output_type": "display_data"
    }
   ],
   "source": [
    "actorDegrees = sorted([d for n, d in actorGraph.degree(weight='weight')])\n",
    "actorDegrees = [i for i in actorDegrees if i <=25]\n",
    "#print(actorDegrees)\n",
    "degreeCount = collections.Counter(actorDegrees)\n",
    "degree, count = zip(*degreeCount.items())\n",
    "\n",
    "fig, ax = plt.subplots()\n",
    "plt.bar(degree, count, width=0.80, color='b')\n",
    "plt.plot(degree, count, 'ko')\n",
    "\n",
    "plt.title(\"Degree Histogram\")\n",
    "plt.ylabel(\"Count\")\n",
    "plt.yscale(\"log\")\n",
    "plt.xlabel(\"Degree\")\n",
    "start, end = ax.get_xlim()\n",
    "ax.xaxis.set_ticks(np.arange(0, end, 3))\n",
    "\n",
    "plt.show()"
   ]
  },
  {
   "cell_type": "code",
   "execution_count": 58,
   "metadata": {
    "collapsed": false
   },
   "outputs": [
    {
     "name": "stdout",
     "output_type": "stream",
     "text": [
      "Counter({3: 18552, 6: 3251, 9: 1394, 12: 820, 15: 527, 18: 334, 21: 282, 24: 192, 27: 177, 30: 136, 33: 93, 36: 91, 42: 75, 39: 74, 45: 56, 48: 49, 51: 36, 57: 33, 54: 31, 63: 27, 66: 27, 60: 26, 72: 18, 69: 16, 81: 16, 75: 14, 78: 14, 84: 14, 87: 9, 90: 8, 96: 6, 93: 5, 99: 5, 105: 5, 111: 5, 108: 4, 114: 4, 117: 4, 126: 3, 102: 2, 120: 2, 129: 2, 132: 2, 138: 1, 141: 1, 144: 1, 162: 1, 183: 1, 189: 1})\n"
     ]
    },
    {
     "data": {
      "image/png": "[encoded data removed]",
      "text/plain": [
       "<matplotlib.figure.Figure at 0x25d0b9acc50>"
      ]
     },
     "metadata": {},
     "output_type": "display_data"
    }
   ],
   "source": [
    "actorDegrees = sorted([d for n, d in actorGraph.degree(weight='weight')])\n",
    "#actorDegrees = [i for i in actorDegrees if (i >=25) & (i < 50)]\n",
    "#print(actorDegrees)\n",
    "degreeCount = collections.Counter(actorDegrees)\n",
    "degreeCount3 = collections.Counter()\n",
    "degreeCountOth = collections.Counter()\n",
    "for deg in degreeCount:\n",
    "    if (deg % 3 == 0) & (deg != 0):\n",
    "        #print(deg)\n",
    "        degreeCount3.update({deg:degreeCount[deg]})\n",
    "    else:\n",
    "        degreeCountOth.update()\n",
    "        \n",
    "\n",
    "#print(elem, degreeCount[elem])\n",
    "print(degreeCount3)\n",
    "degree, count = zip(*degreeCount3.items())\n",
    "#degree = degree[::3]\n",
    "#count = count[::3]\n",
    "#degree3 = [deg for deg in degree if deg % 3 == 0]\n",
    "\n",
    "\n",
    "fig, ax = plt.subplots(figsize=(20,16))\n",
    "plt.bar(degree, count, width=0.80, color='b')\n",
    "plt.plot(degree, count, 'ko')\n",
    "\n",
    "plt.title(\"Degree Histogram\")\n",
    "plt.ylabel(\"Count\")\n",
    "plt.yscale(\"log\")\n",
    "plt.xlabel(\"Degree\")\n",
    "start, end = ax.get_xlim()\n",
    "ax.xaxis.set_ticks(np.arange(0, end, 3))\n",
    "\n",
    "plt.show()"
   ]
  },
  {
   "cell_type": "code",
   "execution_count": 81,
   "metadata": {
    "collapsed": false
   },
   "outputs": [
    {
     "name": "stdout",
     "output_type": "stream",
     "text": [
      "[ -2.43711740e+00   2.69280958e+05   2.43454553e+01]\n",
      "[[  3.64189979e-04  -1.09716767e+02  -5.31982687e-02]\n",
      " [ -1.09716767e+02   3.36533355e+07   1.48786723e+04]\n",
      " [ -5.31982687e-02   1.48786723e+04   6.79622917e+01]]\n",
      "0.9996196521532349\n"
     ]
    },
    {
     "data": {
      "image/png": "[encoded data removed]",
      "text/plain": [
       "<matplotlib.figure.Figure at 0x25d10c71e48>"
      ]
     },
     "metadata": {},
     "output_type": "display_data"
    }
   ],
   "source": [
    "df = pd.DataFrame({\n",
    "            'degree': degree,\n",
    "            'count': count\n",
    "        })\n",
    "#df.plot(x='degree', y='count', kind='line', style='--ro')\n",
    "\n",
    "def func_powerlaw(x, m, c, c0):\n",
    "    return c0 + x**m * c\n",
    "\n",
    "target_func = func_powerlaw\n",
    "\n",
    "X = df['degree']\n",
    "y = df['count']\n",
    "\n",
    "popt, pcov = curve_fit(target_func, X, y, maxfev=3000, p0 = np.asarray([-1, 10*5, 0])) \n",
    "print(popt)\n",
    "print(pcov)\n",
    "\n",
    "residuals = y - target_func(X, popt[0], popt[1], popt[2])\n",
    "ss_res = np.sum(residuals**2)\n",
    "ss_tot = np.sum((y - np.mean(y))**2)\n",
    "r_squared = 1 - (ss_res / ss_tot)\n",
    "print(r_squared)\n",
    "\n",
    "#plt.figure(figsize=(20, 16))\n",
    "#plt.plot(X, target_func(X, *popt), '-')\n",
    "#plt.plot(X, y, 'ro')\n",
    "\n",
    "#plt.legend()\n",
    "#plt.show()\n",
    "\n",
    "fig, ax = plt.subplots(figsize=(10,6))\n",
    "#plt.bar(degree, count, width=0.80, color='b')\n",
    "plt.plot(X, target_func(X, *popt), '-')\n",
    "plt.plot(X, y, 'ko')\n",
    "\n",
    "plt.title(\"Degree Histogram Fitted Power Law\")\n",
    "plt.ylabel(\"Count\")\n",
    "plt.xlabel(\"Degree\")\n",
    "#equation = r'$P(k) = ' + str(round(popt[1], 3)) + '* x^' + str(round(popt[0], 3) + ' + '+ str(round(popt[2], 3))\n",
    "#text(1,1, equation)\n",
    "#start, end = ax.get_xlim()\n",
    "#ax.xaxis.set_ticks(np.arange(0, end, 3))\n",
    "\n",
    "plt.show()"
   ]
  },
  {
   "cell_type": "code",
   "execution_count": 19,
   "metadata": {
    "collapsed": false
   },
   "outputs": [
    {
     "name": "stderr",
     "output_type": "stream",
     "text": [
      "C:\\ProgramData\\Anaconda3\\lib\\site-packages\\ipykernel\\__main__.py:2: RuntimeWarning: divide by zero encountered in power\n",
      "  from ipykernel import kernelapp as app\n"
     ]
    },
    {
     "data": {
      "image/png": "[encoded data removed]",
      "text/plain": [
       "<matplotlib.figure.Figure at 0x25d10ae09e8>"
      ]
     },
     "metadata": {},
     "output_type": "display_data"
    }
   ],
   "source": [
    "#degree3 = degree[::3]\n",
    "#count3 = count[::3]\n",
    "\n",
    "xx = np.linspace(min(degree), max(degree))\n",
    "yy = func(xx, 100000, 2, 0)\n",
    "#yyy = func(xx, 2000, 2, 0)\n",
    "#yy = func(xx, *popt)\n",
    "\n",
    "plt.plot(xx, yy)\n",
    "#plt.plot(xx, yyy)\n",
    "plt.plot(degree3, count3, 'ko')\n",
    "plt.yscale('log')\n",
    "plt.ylabel(\"Count\")\n",
    "plt.xlabel(\"Degree\")\n",
    "\n",
    "plt.ylim([0.5, 10e4])\n",
    "plt.show()"
   ]
  },
  {
   "cell_type": "code",
   "execution_count": null,
   "metadata": {
    "collapsed": false
   },
   "outputs": [],
   "source": [
    "allPairs = dict(nx.all_pairs_shortest_path_length(actorGraph))"
   ]
  },
  {
   "cell_type": "code",
   "execution_count": null,
   "metadata": {
    "collapsed": true
   },
   "outputs": [],
   "source": [
    "actorDegrees = sorted([d for n, d in actorGraph.degree(weight='weight')])\n",
    "#print(actorDegrees)\n",
    "degreeCount = collections.Counter(actorDegrees)\n",
    "degree, count = zip(*degreeCount.items())\n",
    "\n",
    "fig, ax = plt.subplots()\n",
    "plt.bar(degree, count, width=0.80, color='b')\n",
    "plt.plot(degree, count, 'ko')\n",
    "\n",
    "plt.title(\"Degree Histogram\")\n",
    "plt.ylabel(\"Count\")\n",
    "plt.yscale(\"log\")\n",
    "plt.xlabel(\"Degree\")\n",
    "start, end = ax.get_xlim()\n",
    "ax.xaxis.set_ticks(np.arange(0, end, 25))\n",
    "\n",
    "plt.show()"
   ]
  }
 ],
 "metadata": {
  "kernelspec": {
   "display_name": "Python 3",
   "language": "python",
   "name": "python3"
  },
  "language_info": {
   "codemirror_mode": {
    "name": "ipython",
    "version": 3
   },
   "file_extension": ".py",
   "mimetype": "text/x-python",
   "name": "python",
   "nbconvert_exporter": "python",
   "pygments_lexer": "ipython3",
   "version": "3.6.0"
  }
 },
 "nbformat": 4,
 "nbformat_minor": 2
}
