{
 "cells": [
  {
   "cell_type": "code",
   "execution_count": 1,
   "metadata": {
    "collapsed": true
   },
   "outputs": [],
   "source": [
    "import os\n",
    "import omdb\n",
    "import csv\n",
    "import pandas as pd\n",
    "import pickle\n",
    "import networkx as nx\n",
    "import matplotlib.pyplot as plt\n",
    "from networkx.algorithms import bipartite\n",
    "import plotly.plotly as py\n",
    "from plotly.graph_objs import *"
   ]
  },
  {
   "cell_type": "code",
   "execution_count": 2,
   "metadata": {
    "collapsed": true
   },
   "outputs": [],
   "source": [
    "df = pd.read_pickle(\"/Users/kristenkozmary/Desktop/databasedump.pickle\")"
   ]
  },
  {
   "cell_type": "code",
   "execution_count": 3,
   "metadata": {
    "collapsed": true
   },
   "outputs": [],
   "source": [
    "#process dataframe into network\n",
    "allActors = []\n",
    "biGraph = nx.Graph()\n",
    "actorSet = 0\n",
    "movieSet = 1\n",
    "count = 0\n",
    "\n",
    "for index, row in df.iterrows():\n",
    "    movie = row['title_director']\n",
    "    biGraph.add_nodes_from([movie], bipartite=movieSet)\n",
    "    actors = row['actors']\n",
    "    if isinstance(actors, str):\n",
    "        actors = actors.split(', ')\n",
    "        #print(actors)\n",
    "        for actor in actors:\n",
    "            if not any(actor == name for name in allActors): # if actor is not in allActors already:\n",
    "                allActors.append(actor)\n",
    "                biGraph.add_nodes_from([actor], bipartite=actorSet)\n",
    "                biGraph.add_edge(movie, actor, weight=1)\n",
    "            else:\n",
    "                #currWeight = biGraph[movie][actor]['weight']\n",
    "                #print(actor)\n",
    "                biGraph.add_edge(movie, actor, weight=1)\n",
    "    count = count + 1\n",
    "    #if count > 200:\n",
    "    #    break"
   ]
  },
  {
   "cell_type": "code",
   "execution_count": 4,
   "metadata": {},
   "outputs": [
    {
     "name": "stdout",
     "output_type": "stream",
     "text": [
      "15674\n",
      "27352\n"
     ]
    }
   ],
   "source": [
    "movieNodes = set(n for n, d in biGraph.nodes(data=True) if d['bipartite']==movieSet)\n",
    "actorNodes = set(n for n, d in biGraph.nodes(data=True) if d['bipartite']==actorSet)\n",
    "print(len(movieNodes))\n",
    "print(len(actorNodes))"
   ]
  },
  {
   "cell_type": "code",
   "execution_count": 5,
   "metadata": {
    "collapsed": true
   },
   "outputs": [],
   "source": [
    "dataf = pd.DataFrame()\n",
    "for index, row in df.iterrows():\n",
    "    movie = row['title']\n",
    "    actors = row['actors']\n",
    "    if isinstance(actors, str):\n",
    "        actors = actors.split(', ')\n",
    "        #print(actors)\n",
    "        for actor in actors:\n",
    "            dataf = dataf.append([[actor,movie]])"
   ]
  },
  {
   "cell_type": "code",
   "execution_count": 8,
   "metadata": {
    "collapsed": true
   },
   "outputs": [],
   "source": [
    "datafMovies = dataf[1]\n",
    "datafActors = dataf[0]\n",
    "testActors = []\n",
    "count = 0\n",
    "#just testing with 10\n",
    "for i in newdfActors:\n",
    "    testActors.append(i)\n",
    "    count = count + 1\n",
    "    if count > 10:\n",
    "        break"
   ]
  },
  {
   "cell_type": "code",
   "execution_count": 10,
   "metadata": {},
   "outputs": [],
   "source": [
    "C = bipartite.projected_graph(biGraph, testActors, multigraph=False)"
   ]
  },
  {
   "cell_type": "code",
   "execution_count": 11,
   "metadata": {},
   "outputs": [
    {
     "data": {
      "image/png": "[encoded data removed]",
      "text/plain": [
       "<matplotlib.figure.Figure at 0x11d31f518>"
      ]
     },
     "metadata": {},
     "output_type": "display_data"
    }
   ],
   "source": [
    "nx.draw(C)\n",
    "plt.show()"
   ]
  },
  {
   "cell_type": "code",
   "execution_count": 15,
   "metadata": {},
   "outputs": [
    {
     "data": {
      "text/plain": [
       "285"
      ]
     },
     "execution_count": 15,
     "metadata": {},
     "output_type": "execute_result"
    }
   ],
   "source": [
    "C.number_of_nodes()"
   ]
  },
  {
   "cell_type": "code",
   "execution_count": 16,
   "metadata": {},
   "outputs": [
    {
     "data": {
      "text/plain": [
       "309"
      ]
     },
     "execution_count": 16,
     "metadata": {},
     "output_type": "execute_result"
    }
   ],
   "source": [
    "C.number_of_edges()"
   ]
  },
  {
   "cell_type": "code",
   "execution_count": null,
   "metadata": {
    "collapsed": true
   },
   "outputs": [],
   "source": []
  }
 ],
 "metadata": {
  "kernelspec": {
   "display_name": "Python fox",
   "language": "python",
   "name": "fox"
  },
  "language_info": {
   "codemirror_mode": {
    "name": "ipython",
    "version": 3
   },
   "file_extension": ".py",
   "mimetype": "text/x-python",
   "name": "python",
   "nbconvert_exporter": "python",
   "pygments_lexer": "ipython3",
   "version": "3.6.2"
  }
 },
 "nbformat": 4,
 "nbformat_minor": 2
}
